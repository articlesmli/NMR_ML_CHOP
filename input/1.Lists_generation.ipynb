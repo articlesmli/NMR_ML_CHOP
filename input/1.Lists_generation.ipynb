{
 "cells": [
  {
   "cell_type": "markdown",
   "id": "18f6f4f5-a126-4c4f-950b-8cc6ffa916b6",
   "metadata": {},
   "source": [
    "# Generation of the initial list with compounds out of the PubChem bioassay dataset"
   ]
  },
  {
   "cell_type": "markdown",
   "id": "1dcf9d82-657a-4656-b3f3-c8905d770694",
   "metadata": {},
   "source": [
    "### Content   <a name=\"content\"></a>"
   ]
  },
  {
   "cell_type": "markdown",
   "id": "b3551b8d-c497-4ba0-b627-ebcdd8e64a99",
   "metadata": {},
   "source": [
    "1. [Load PubChem BioAssay activators of TTR transcriptors ](#1)\n",
    "2. [Extract the necessary columns](#2)\n",
    "3. [Reduce the samples labled 0](#3)\n",
    "4. [Create csv files](#4)"
   ]
  },
  {
   "cell_type": "markdown",
   "id": "4b14090e-b376-4ffb-86be-653a06cb09e0",
   "metadata": {},
   "source": [
    "## Load PubChem BioAssay TTR receptor <a name=\"1\"></a>"
   ]
  },
  {
   "cell_type": "code",
   "execution_count": 1,
   "id": "e72d2861-3f2d-4804-803e-1c60ad3dbaaa",
   "metadata": {},
   "outputs": [
    {
     "name": "stdout",
     "output_type": "stream",
     "text": [
      "Shape of the data frame:  (219165, 10)\n"
     ]
    },
    {
     "data": {
      "text/html": [
       "<div>\n",
       "<style scoped>\n",
       "    .dataframe tbody tr th:only-of-type {\n",
       "        vertical-align: middle;\n",
       "    }\n",
       "\n",
       "    .dataframe tbody tr th {\n",
       "        vertical-align: top;\n",
       "    }\n",
       "\n",
       "    .dataframe thead th {\n",
       "        text-align: right;\n",
       "    }\n",
       "</style>\n",
       "<table border=\"1\" class=\"dataframe\">\n",
       "  <thead>\n",
       "    <tr style=\"text-align: right;\">\n",
       "      <th></th>\n",
       "      <th>PUBCHEM_RESULT_TAG</th>\n",
       "      <th>SID</th>\n",
       "      <th>CID</th>\n",
       "      <th>SMILES</th>\n",
       "      <th>target</th>\n",
       "      <th>PUBCHEM_ACTIVITY_SCORE</th>\n",
       "      <th>PUBCHEM_ACTIVITY_URL</th>\n",
       "      <th>PUBCHEM_ASSAYDATA_COMMENT</th>\n",
       "      <th>Pct Inhibition</th>\n",
       "      <th>Luminescence Value</th>\n",
       "    </tr>\n",
       "  </thead>\n",
       "  <tbody>\n",
       "    <tr>\n",
       "      <th>0</th>\n",
       "      <td>1</td>\n",
       "      <td>17416326</td>\n",
       "      <td>2840784.0</td>\n",
       "      <td>CCCCC(=O)NC1=C(C2=C(S1)C(=C(CC2)C=O)Cl)C(=O)OCC</td>\n",
       "      <td>Active</td>\n",
       "      <td>100</td>\n",
       "      <td>NaN</td>\n",
       "      <td>NaN</td>\n",
       "      <td>116.56</td>\n",
       "      <td>35520</td>\n",
       "    </tr>\n",
       "    <tr>\n",
       "      <th>1</th>\n",
       "      <td>2</td>\n",
       "      <td>14741113</td>\n",
       "      <td>2010180.0</td>\n",
       "      <td>CC1=CC(=CC=C1)CS(=O)(=O)C2=NN=C(O2)[C@H](CC3=C...</td>\n",
       "      <td>Active</td>\n",
       "      <td>99</td>\n",
       "      <td>NaN</td>\n",
       "      <td>NaN</td>\n",
       "      <td>115.34</td>\n",
       "      <td>69880</td>\n",
       "    </tr>\n",
       "    <tr>\n",
       "      <th>2</th>\n",
       "      <td>3</td>\n",
       "      <td>14742004</td>\n",
       "      <td>3696529.0</td>\n",
       "      <td>CC1=CC=C(C=C1)C(=O)C2=C(OC3=C2C(=O)C(=O)C4=CC=...</td>\n",
       "      <td>Active</td>\n",
       "      <td>99</td>\n",
       "      <td>NaN</td>\n",
       "      <td>NaN</td>\n",
       "      <td>115.21</td>\n",
       "      <td>39160</td>\n",
       "    </tr>\n",
       "    <tr>\n",
       "      <th>3</th>\n",
       "      <td>4</td>\n",
       "      <td>863128</td>\n",
       "      <td>664366.0</td>\n",
       "      <td>CC[C@@H](C)[C@@H](C1=NN=C(O1)S(=O)(=O)CC2=C(C=...</td>\n",
       "      <td>Active</td>\n",
       "      <td>99</td>\n",
       "      <td>NaN</td>\n",
       "      <td>NaN</td>\n",
       "      <td>114.88</td>\n",
       "      <td>144040</td>\n",
       "    </tr>\n",
       "    <tr>\n",
       "      <th>4</th>\n",
       "      <td>5</td>\n",
       "      <td>17409458</td>\n",
       "      <td>6418635.0</td>\n",
       "      <td>C1=CC=C(C=C1)C2=NC(=C(N=N2)C(F)(F)F)SC3=CC=C(C...</td>\n",
       "      <td>Active</td>\n",
       "      <td>98</td>\n",
       "      <td>NaN</td>\n",
       "      <td>NaN</td>\n",
       "      <td>114.24</td>\n",
       "      <td>17400</td>\n",
       "    </tr>\n",
       "  </tbody>\n",
       "</table>\n",
       "</div>"
      ],
      "text/plain": [
       "   PUBCHEM_RESULT_TAG       SID        CID  \\\n",
       "0                   1  17416326  2840784.0   \n",
       "1                   2  14741113  2010180.0   \n",
       "2                   3  14742004  3696529.0   \n",
       "3                   4    863128   664366.0   \n",
       "4                   5  17409458  6418635.0   \n",
       "\n",
       "                                              SMILES  target  \\\n",
       "0    CCCCC(=O)NC1=C(C2=C(S1)C(=C(CC2)C=O)Cl)C(=O)OCC  Active   \n",
       "1  CC1=CC(=CC=C1)CS(=O)(=O)C2=NN=C(O2)[C@H](CC3=C...  Active   \n",
       "2  CC1=CC=C(C=C1)C(=O)C2=C(OC3=C2C(=O)C(=O)C4=CC=...  Active   \n",
       "3  CC[C@@H](C)[C@@H](C1=NN=C(O1)S(=O)(=O)CC2=C(C=...  Active   \n",
       "4  C1=CC=C(C=C1)C2=NC(=C(N=N2)C(F)(F)F)SC3=CC=C(C...  Active   \n",
       "\n",
       "   PUBCHEM_ACTIVITY_SCORE  PUBCHEM_ACTIVITY_URL  PUBCHEM_ASSAYDATA_COMMENT  \\\n",
       "0                     100                   NaN                        NaN   \n",
       "1                      99                   NaN                        NaN   \n",
       "2                      99                   NaN                        NaN   \n",
       "3                      99                   NaN                        NaN   \n",
       "4                      98                   NaN                        NaN   \n",
       "\n",
       "  Pct Inhibition  Luminescence Value  \n",
       "0         116.56               35520  \n",
       "1         115.34               69880  \n",
       "2         115.21               39160  \n",
       "3         114.88              144040  \n",
       "4         114.24               17400  "
      ]
     },
     "execution_count": 1,
     "metadata": {},
     "output_type": "execute_result"
    }
   ],
   "source": [
    "import pandas as pd \n",
    "\n",
    "# load the BioAssay PubChem AID 2732 dataset\n",
    "# https://pubchem.ncbi.nlm.nih.gov/bioassay/2732\n",
    "df = pd.read_csv('pubchem_CHOP_bioassay.csv', sep=';', low_memory=False)\n",
    "\n",
    "# To avoid truncation of some columns during data frame display\n",
    "pd.set_option('display.max_columns', None) \n",
    "\n",
    "# Display the data frame\n",
    "print('Shape of the data frame: ', df.shape)\n",
    "\n",
    "df.head()"
   ]
  },
  {
   "cell_type": "code",
   "execution_count": 2,
   "id": "f1f3eb32-ed9f-41c1-9af1-1f221c4a7e48",
   "metadata": {},
   "outputs": [
    {
     "name": "stdout",
     "output_type": "stream",
     "text": [
      "<class 'pandas.core.frame.DataFrame'>\n",
      "RangeIndex: 219165 entries, 0 to 219164\n",
      "Data columns (total 10 columns):\n",
      " #   Column                     Non-Null Count   Dtype  \n",
      "---  ------                     --------------   -----  \n",
      " 0   PUBCHEM_RESULT_TAG         219165 non-null  int64  \n",
      " 1   SID                        219165 non-null  int64  \n",
      " 2   CID                        219164 non-null  float64\n",
      " 3   SMILES                     219164 non-null  object \n",
      " 4   target                     219165 non-null  object \n",
      " 5   PUBCHEM_ACTIVITY_SCORE     219165 non-null  int64  \n",
      " 6   PUBCHEM_ACTIVITY_URL       0 non-null       float64\n",
      " 7   PUBCHEM_ASSAYDATA_COMMENT  0 non-null       float64\n",
      " 8   Pct Inhibition             219165 non-null  object \n",
      " 9   Luminescence Value         219165 non-null  int64  \n",
      "dtypes: float64(3), int64(4), object(3)\n",
      "memory usage: 16.7+ MB\n"
     ]
    }
   ],
   "source": [
    "df.info()"
   ]
  },
  {
   "cell_type": "code",
   "execution_count": 3,
   "id": "dd9b495c-dd4b-4c61-8755-386c0f7cacd1",
   "metadata": {},
   "outputs": [
    {
     "data": {
      "text/plain": [
       "(219165, 10)"
      ]
     },
     "execution_count": 3,
     "metadata": {},
     "output_type": "execute_result"
    }
   ],
   "source": [
    "# Remove duplicates in general\n",
    "df.drop_duplicates()\n",
    "df.shape "
   ]
  },
  {
   "cell_type": "code",
   "execution_count": 4,
   "id": "8185eb78-66e5-4f20-acb4-4189888f2017",
   "metadata": {},
   "outputs": [
    {
     "data": {
      "text/plain": [
       "(218177, 10)"
      ]
     },
     "execution_count": 4,
     "metadata": {},
     "output_type": "execute_result"
    }
   ],
   "source": [
    "# Remove duplicates in CIDs \n",
    "df = df.drop_duplicates(subset=['CID'], keep=False) \n",
    "df.shape  # 6,446 are duplicates "
   ]
  },
  {
   "cell_type": "code",
   "execution_count": 5,
   "id": "64c2bfe8-8d09-4148-aeef-f1615c1d950d",
   "metadata": {},
   "outputs": [
    {
     "data": {
      "text/plain": [
       "(218176, 10)"
      ]
     },
     "execution_count": 5,
     "metadata": {},
     "output_type": "execute_result"
    }
   ],
   "source": [
    "# Remove the compounds missing CID-s\n",
    "df = df[df['CID'].notna()]\n",
    "df.shape"
   ]
  },
  {
   "cell_type": "code",
   "execution_count": 6,
   "id": "e67c3e3b-171c-4b5d-a3f0-be00cbbeb8d2",
   "metadata": {},
   "outputs": [
    {
     "name": "stdout",
     "output_type": "stream",
     "text": [
      "<class 'pandas.core.frame.DataFrame'>\n",
      "Index: 218176 entries, 0 to 219164\n",
      "Data columns (total 10 columns):\n",
      " #   Column                     Non-Null Count   Dtype  \n",
      "---  ------                     --------------   -----  \n",
      " 0   PUBCHEM_RESULT_TAG         218176 non-null  int64  \n",
      " 1   SID                        218176 non-null  int64  \n",
      " 2   CID                        218176 non-null  int32  \n",
      " 3   SMILES                     218176 non-null  object \n",
      " 4   target                     218176 non-null  object \n",
      " 5   PUBCHEM_ACTIVITY_SCORE     218176 non-null  int64  \n",
      " 6   PUBCHEM_ACTIVITY_URL       0 non-null       float64\n",
      " 7   PUBCHEM_ASSAYDATA_COMMENT  0 non-null       float64\n",
      " 8   Pct Inhibition             218176 non-null  object \n",
      " 9   Luminescence Value         218176 non-null  int64  \n",
      "dtypes: float64(2), int32(1), int64(4), object(3)\n",
      "memory usage: 17.5+ MB\n"
     ]
    }
   ],
   "source": [
    "# Turn CID float data type into integer\n",
    "df['CID'] = df['CID'].astype(int) \n",
    "df.info()"
   ]
  },
  {
   "cell_type": "code",
   "execution_count": 7,
   "id": "8b7fe85d",
   "metadata": {},
   "outputs": [
    {
     "data": {
      "text/plain": [
       "False"
      ]
     },
     "execution_count": 7,
     "metadata": {},
     "output_type": "execute_result"
    }
   ],
   "source": [
    "# Check for isomers , i.e. same CIDs but different SIDs  \n",
    "boolean = not df[\"CID\"].is_unique \n",
    "boolean"
   ]
  },
  {
   "cell_type": "markdown",
   "id": "715afd49-1ddd-43d8-b2a1-24e1f2ad4269",
   "metadata": {},
   "source": [
    "[<a href=\"#content\">Back to top</a>]"
   ]
  },
  {
   "cell_type": "markdown",
   "id": "b3ab0d3e-bb1e-49db-afe9-c05c74dc7ccc",
   "metadata": {},
   "source": [
    "## Extract the necessary columns and edit data appropriately <a name=\"2\"></a>"
   ]
  },
  {
   "cell_type": "code",
   "execution_count": 8,
   "id": "4e2e5f3b",
   "metadata": {},
   "outputs": [
    {
     "data": {
      "text/html": [
       "<div>\n",
       "<style scoped>\n",
       "    .dataframe tbody tr th:only-of-type {\n",
       "        vertical-align: middle;\n",
       "    }\n",
       "\n",
       "    .dataframe tbody tr th {\n",
       "        vertical-align: top;\n",
       "    }\n",
       "\n",
       "    .dataframe thead th {\n",
       "        text-align: right;\n",
       "    }\n",
       "</style>\n",
       "<table border=\"1\" class=\"dataframe\">\n",
       "  <thead>\n",
       "    <tr style=\"text-align: right;\">\n",
       "      <th></th>\n",
       "      <th>CID</th>\n",
       "      <th>SMILES</th>\n",
       "      <th>target</th>\n",
       "    </tr>\n",
       "  </thead>\n",
       "  <tbody>\n",
       "    <tr>\n",
       "      <th>0</th>\n",
       "      <td>2840784</td>\n",
       "      <td>CCCCC(=O)NC1=C(C2=C(S1)C(=C(CC2)C=O)Cl)C(=O)OCC</td>\n",
       "      <td>Active</td>\n",
       "    </tr>\n",
       "    <tr>\n",
       "      <th>1</th>\n",
       "      <td>2010180</td>\n",
       "      <td>CC1=CC(=CC=C1)CS(=O)(=O)C2=NN=C(O2)[C@H](CC3=C...</td>\n",
       "      <td>Active</td>\n",
       "    </tr>\n",
       "    <tr>\n",
       "      <th>2</th>\n",
       "      <td>3696529</td>\n",
       "      <td>CC1=CC=C(C=C1)C(=O)C2=C(OC3=C2C(=O)C(=O)C4=CC=...</td>\n",
       "      <td>Active</td>\n",
       "    </tr>\n",
       "    <tr>\n",
       "      <th>3</th>\n",
       "      <td>664366</td>\n",
       "      <td>CC[C@@H](C)[C@@H](C1=NN=C(O1)S(=O)(=O)CC2=C(C=...</td>\n",
       "      <td>Active</td>\n",
       "    </tr>\n",
       "    <tr>\n",
       "      <th>4</th>\n",
       "      <td>6418635</td>\n",
       "      <td>C1=CC=C(C=C1)C2=NC(=C(N=N2)C(F)(F)F)SC3=CC=C(C...</td>\n",
       "      <td>Active</td>\n",
       "    </tr>\n",
       "  </tbody>\n",
       "</table>\n",
       "</div>"
      ],
      "text/plain": [
       "       CID                                             SMILES  target\n",
       "0  2840784    CCCCC(=O)NC1=C(C2=C(S1)C(=C(CC2)C=O)Cl)C(=O)OCC  Active\n",
       "1  2010180  CC1=CC(=CC=C1)CS(=O)(=O)C2=NN=C(O2)[C@H](CC3=C...  Active\n",
       "2  3696529  CC1=CC=C(C=C1)C(=O)C2=C(OC3=C2C(=O)C(=O)C4=CC=...  Active\n",
       "3   664366  CC[C@@H](C)[C@@H](C1=NN=C(O1)S(=O)(=O)CC2=C(C=...  Active\n",
       "4  6418635  C1=CC=C(C=C1)C2=NC(=C(N=N2)C(F)(F)F)SC3=CC=C(C...  Active"
      ]
     },
     "execution_count": 8,
     "metadata": {},
     "output_type": "execute_result"
    }
   ],
   "source": [
    "df_target = df [['CID', 'SMILES', 'target']]\n",
    "df_target.head()"
   ]
  },
  {
   "cell_type": "code",
   "execution_count": 9,
   "id": "4ee49221",
   "metadata": {},
   "outputs": [
    {
     "data": {
      "text/plain": [
       "target\n",
       "Inactive    209952\n",
       "Active        8224\n",
       "Name: count, dtype: int64"
      ]
     },
     "execution_count": 9,
     "metadata": {},
     "output_type": "execute_result"
    }
   ],
   "source": [
    "# Counting of values in column PUBCHEM_ACTIVITY_OUTCOME\n",
    "df_target['target'].value_counts()"
   ]
  },
  {
   "cell_type": "code",
   "execution_count": 10,
   "id": "55d81376",
   "metadata": {},
   "outputs": [
    {
     "data": {
      "text/plain": [
       "array([1, 0], dtype=int64)"
      ]
     },
     "execution_count": 10,
     "metadata": {},
     "output_type": "execute_result"
    }
   ],
   "source": [
    "# Set the binary targets to \"1\" for an active inhibitors and \"0\" for others \n",
    "df_target = df_target.copy()\n",
    "\n",
    "# Create a dictionary\n",
    "target = {'Active' : 1,\n",
    "          'Inactive' : 0}\n",
    "\n",
    "# Replace the names with binary values set up in the dictionary targets\n",
    "df_target.target = [target[item] for item in df_target.target]\n",
    "\n",
    "# Rename \"unique combination\" into \"target\"\n",
    "# df_target = df_target.rename(columns={'OUTCOME': 'target'})\n",
    "\n",
    "# Check how many unique values there are in the 'target' column\n",
    "df_target['target'].unique()"
   ]
  },
  {
   "cell_type": "code",
   "execution_count": 11,
   "id": "d5974392",
   "metadata": {},
   "outputs": [
    {
     "name": "stdout",
     "output_type": "stream",
     "text": [
      "Shape of df_target_1:  (8224, 3)\n"
     ]
    },
    {
     "data": {
      "text/html": [
       "<div>\n",
       "<style scoped>\n",
       "    .dataframe tbody tr th:only-of-type {\n",
       "        vertical-align: middle;\n",
       "    }\n",
       "\n",
       "    .dataframe tbody tr th {\n",
       "        vertical-align: top;\n",
       "    }\n",
       "\n",
       "    .dataframe thead th {\n",
       "        text-align: right;\n",
       "    }\n",
       "</style>\n",
       "<table border=\"1\" class=\"dataframe\">\n",
       "  <thead>\n",
       "    <tr style=\"text-align: right;\">\n",
       "      <th></th>\n",
       "      <th>CID</th>\n",
       "      <th>SMILES</th>\n",
       "      <th>target</th>\n",
       "    </tr>\n",
       "  </thead>\n",
       "  <tbody>\n",
       "    <tr>\n",
       "      <th>0</th>\n",
       "      <td>2840784</td>\n",
       "      <td>CCCCC(=O)NC1=C(C2=C(S1)C(=C(CC2)C=O)Cl)C(=O)OCC</td>\n",
       "      <td>1</td>\n",
       "    </tr>\n",
       "    <tr>\n",
       "      <th>1</th>\n",
       "      <td>2010180</td>\n",
       "      <td>CC1=CC(=CC=C1)CS(=O)(=O)C2=NN=C(O2)[C@H](CC3=C...</td>\n",
       "      <td>1</td>\n",
       "    </tr>\n",
       "    <tr>\n",
       "      <th>2</th>\n",
       "      <td>3696529</td>\n",
       "      <td>CC1=CC=C(C=C1)C(=O)C2=C(OC3=C2C(=O)C(=O)C4=CC=...</td>\n",
       "      <td>1</td>\n",
       "    </tr>\n",
       "    <tr>\n",
       "      <th>3</th>\n",
       "      <td>664366</td>\n",
       "      <td>CC[C@@H](C)[C@@H](C1=NN=C(O1)S(=O)(=O)CC2=C(C=...</td>\n",
       "      <td>1</td>\n",
       "    </tr>\n",
       "    <tr>\n",
       "      <th>4</th>\n",
       "      <td>6418635</td>\n",
       "      <td>C1=CC=C(C=C1)C2=NC(=C(N=N2)C(F)(F)F)SC3=CC=C(C...</td>\n",
       "      <td>1</td>\n",
       "    </tr>\n",
       "  </tbody>\n",
       "</table>\n",
       "</div>"
      ],
      "text/plain": [
       "       CID                                             SMILES  target\n",
       "0  2840784    CCCCC(=O)NC1=C(C2=C(S1)C(=C(CC2)C=O)Cl)C(=O)OCC       1\n",
       "1  2010180  CC1=CC(=CC=C1)CS(=O)(=O)C2=NN=C(O2)[C@H](CC3=C...       1\n",
       "2  3696529  CC1=CC=C(C=C1)C(=O)C2=C(OC3=C2C(=O)C(=O)C4=CC=...       1\n",
       "3   664366  CC[C@@H](C)[C@@H](C1=NN=C(O1)S(=O)(=O)CC2=C(C=...       1\n",
       "4  6418635  C1=CC=C(C=C1)C2=NC(=C(N=N2)C(F)(F)F)SC3=CC=C(C...       1"
      ]
     },
     "execution_count": 11,
     "metadata": {},
     "output_type": "execute_result"
    }
   ],
   "source": [
    "# Create a data set only with compounds that are active inhibitors \n",
    "df_target_1= df_target[df_target['target']==1]\n",
    "\n",
    "# Display the data set from 10 samples of active inhibitors \n",
    "print('Shape of df_target_1: ', df_target_1.shape)\n",
    "df_target_1.head()"
   ]
  },
  {
   "cell_type": "markdown",
   "id": "1fbf534e-3960-4d68-aa98-0b76692a3206",
   "metadata": {},
   "source": [
    "[<a href=\"#content\">Back to top</a>]"
   ]
  },
  {
   "cell_type": "markdown",
   "id": "ddf9a76c-0f44-4dc6-8add-344a5cb77477",
   "metadata": {},
   "source": [
    "## Reduce the samples labled 0 <a name=\"3\"></a>"
   ]
  },
  {
   "cell_type": "code",
   "execution_count": 12,
   "id": "466c9e73-6d06-4dd1-9814-4c7b8b1c8d9c",
   "metadata": {},
   "outputs": [
    {
     "name": "stdout",
     "output_type": "stream",
     "text": [
      "Shape of df_solubility:  (57859, 30)\n"
     ]
    },
    {
     "data": {
      "text/html": [
       "<div>\n",
       "<style scoped>\n",
       "    .dataframe tbody tr th:only-of-type {\n",
       "        vertical-align: middle;\n",
       "    }\n",
       "\n",
       "    .dataframe tbody tr th {\n",
       "        vertical-align: top;\n",
       "    }\n",
       "\n",
       "    .dataframe thead th {\n",
       "        text-align: right;\n",
       "    }\n",
       "</style>\n",
       "<table border=\"1\" class=\"dataframe\">\n",
       "  <thead>\n",
       "    <tr style=\"text-align: right;\">\n",
       "      <th></th>\n",
       "      <th>PUBCHEM_RESULT_TAG</th>\n",
       "      <th>SID</th>\n",
       "      <th>CID</th>\n",
       "      <th>PUBCHEM_EXT_DATASOURCE_SMILES</th>\n",
       "      <th>OUTCOME</th>\n",
       "      <th>PUBCHEM_ACTIVITY_SCORE</th>\n",
       "      <th>PUBCHEM_ACTIVITY_URL</th>\n",
       "      <th>PUBCHEM_ASSAYDATA_COMMENT</th>\n",
       "      <th>Solubility at pH 7.4_Qualifier_Mean</th>\n",
       "      <th>Solubility at pH 7.4_Mean</th>\n",
       "      <th>Test Concentration_1</th>\n",
       "      <th>Solubility at pH 7.4_Qualifier_1</th>\n",
       "      <th>Solubility at pH 7.4_1</th>\n",
       "      <th>Solubility at pH 7.4_Comment_1</th>\n",
       "      <th>Solubility of Astemizole at pH 7.4_Qualifier_1</th>\n",
       "      <th>Solubility of Astemizole at pH 7.4_1</th>\n",
       "      <th>Solubility of Sulfamethizole at pH 7.4_Qualifier_1</th>\n",
       "      <th>Solubility of Sulfamethizole at pH 7.4_1</th>\n",
       "      <th>Solubility of Imipramine HCl at pH 7.4_Qualifier_1</th>\n",
       "      <th>Solubility of Imipramine HCl at pH 7.4_1</th>\n",
       "      <th>Test Concentration_2</th>\n",
       "      <th>Solubility at pH 7.4_Qualifier_2</th>\n",
       "      <th>Solubility at pH 7.4_2</th>\n",
       "      <th>Solubility at pH 7.4_Comment_2</th>\n",
       "      <th>Solubility of Astemizole at pH 7.4_Qualifier_2</th>\n",
       "      <th>Solubility of Astemizole at pH 7.4_2</th>\n",
       "      <th>Solubility of Sulfamethizole at pH 7.4_Qualifier_2</th>\n",
       "      <th>Solubility of Sulfamethizole at pH 7.4_2</th>\n",
       "      <th>Solubility of Imipramine HCl at pH 7.4_Qualifier_2</th>\n",
       "      <th>Solubility of Imipramine HCl at pH 7.4_2</th>\n",
       "    </tr>\n",
       "  </thead>\n",
       "  <tbody>\n",
       "    <tr>\n",
       "      <th>0</th>\n",
       "      <td>1</td>\n",
       "      <td>24826444</td>\n",
       "      <td>2374148</td>\n",
       "      <td>COC1=CC=C(C=C1)OCC2=NNC(=S)N2N</td>\n",
       "      <td>Active</td>\n",
       "      <td>40</td>\n",
       "      <td>NaN</td>\n",
       "      <td>NaN</td>\n",
       "      <td>=</td>\n",
       "      <td>10.85</td>\n",
       "      <td>200</td>\n",
       "      <td>&lt;</td>\n",
       "      <td>0.1</td>\n",
       "      <td>Below LOQ</td>\n",
       "      <td>=</td>\n",
       "      <td>14.2</td>\n",
       "      <td>&gt;</td>\n",
       "      <td>40.5</td>\n",
       "      <td>&gt;</td>\n",
       "      <td>47.5</td>\n",
       "      <td>200.0</td>\n",
       "      <td>=</td>\n",
       "      <td>21.6</td>\n",
       "      <td>NaN</td>\n",
       "      <td>=</td>\n",
       "      <td>27.7</td>\n",
       "      <td>&gt;</td>\n",
       "      <td>40.5</td>\n",
       "      <td>&gt;</td>\n",
       "      <td>47.5</td>\n",
       "    </tr>\n",
       "    <tr>\n",
       "      <th>1</th>\n",
       "      <td>2</td>\n",
       "      <td>49669186</td>\n",
       "      <td>5295761</td>\n",
       "      <td>CC1=CC(=C(C=C1)NC2=NC3=CC=CC=C3N4C2=NN=C4)Cl</td>\n",
       "      <td>Inactive</td>\n",
       "      <td>0</td>\n",
       "      <td>NaN</td>\n",
       "      <td>NaN</td>\n",
       "      <td>&lt;</td>\n",
       "      <td>0.10</td>\n",
       "      <td>200</td>\n",
       "      <td>&lt;</td>\n",
       "      <td>0.1</td>\n",
       "      <td>Below LOQ</td>\n",
       "      <td>=</td>\n",
       "      <td>12.3</td>\n",
       "      <td>&gt;</td>\n",
       "      <td>40.5</td>\n",
       "      <td>&gt;</td>\n",
       "      <td>47.5</td>\n",
       "      <td>NaN</td>\n",
       "      <td>NaN</td>\n",
       "      <td>NaN</td>\n",
       "      <td>NaN</td>\n",
       "      <td>NaN</td>\n",
       "      <td>NaN</td>\n",
       "      <td>NaN</td>\n",
       "      <td>NaN</td>\n",
       "      <td>NaN</td>\n",
       "      <td>NaN</td>\n",
       "    </tr>\n",
       "    <tr>\n",
       "      <th>2</th>\n",
       "      <td>3</td>\n",
       "      <td>49669768</td>\n",
       "      <td>22431387</td>\n",
       "      <td>CC1=CC(=CC=C1)CCNC2=NC3=C(C=C(C=C3)C)N4C2=NN=C4</td>\n",
       "      <td>Inactive</td>\n",
       "      <td>0</td>\n",
       "      <td>NaN</td>\n",
       "      <td>NaN</td>\n",
       "      <td>&lt;</td>\n",
       "      <td>0.10</td>\n",
       "      <td>200</td>\n",
       "      <td>&lt;</td>\n",
       "      <td>0.1</td>\n",
       "      <td>Below LOQ</td>\n",
       "      <td>=</td>\n",
       "      <td>12.3</td>\n",
       "      <td>&gt;</td>\n",
       "      <td>40.5</td>\n",
       "      <td>&gt;</td>\n",
       "      <td>47.5</td>\n",
       "      <td>NaN</td>\n",
       "      <td>NaN</td>\n",
       "      <td>NaN</td>\n",
       "      <td>NaN</td>\n",
       "      <td>NaN</td>\n",
       "      <td>NaN</td>\n",
       "      <td>NaN</td>\n",
       "      <td>NaN</td>\n",
       "      <td>NaN</td>\n",
       "      <td>NaN</td>\n",
       "    </tr>\n",
       "    <tr>\n",
       "      <th>3</th>\n",
       "      <td>4</td>\n",
       "      <td>8139962</td>\n",
       "      <td>14296</td>\n",
       "      <td>CC1=C(N=C(C(=N1)C)C)C</td>\n",
       "      <td>Inactive</td>\n",
       "      <td>0</td>\n",
       "      <td>NaN</td>\n",
       "      <td>NaN</td>\n",
       "      <td>&lt;</td>\n",
       "      <td>0.10</td>\n",
       "      <td>200</td>\n",
       "      <td>&lt;</td>\n",
       "      <td>0.1</td>\n",
       "      <td>Below LOQ</td>\n",
       "      <td>=</td>\n",
       "      <td>11.4</td>\n",
       "      <td>&gt;</td>\n",
       "      <td>40.5</td>\n",
       "      <td>&gt;</td>\n",
       "      <td>47.5</td>\n",
       "      <td>NaN</td>\n",
       "      <td>NaN</td>\n",
       "      <td>NaN</td>\n",
       "      <td>NaN</td>\n",
       "      <td>NaN</td>\n",
       "      <td>NaN</td>\n",
       "      <td>NaN</td>\n",
       "      <td>NaN</td>\n",
       "      <td>NaN</td>\n",
       "      <td>NaN</td>\n",
       "    </tr>\n",
       "    <tr>\n",
       "      <th>4</th>\n",
       "      <td>5</td>\n",
       "      <td>24803435</td>\n",
       "      <td>865684</td>\n",
       "      <td>CC1=CC2=NC(=C(C=C2C=C1)C#N)NC3=CC=CC=C3OC</td>\n",
       "      <td>Inactive</td>\n",
       "      <td>0</td>\n",
       "      <td>NaN</td>\n",
       "      <td>NaN</td>\n",
       "      <td>&lt;</td>\n",
       "      <td>0.20</td>\n",
       "      <td>200</td>\n",
       "      <td>&lt;</td>\n",
       "      <td>0.2</td>\n",
       "      <td>Below LOQ</td>\n",
       "      <td>=</td>\n",
       "      <td>11.4</td>\n",
       "      <td>&gt;</td>\n",
       "      <td>40.5</td>\n",
       "      <td>&gt;</td>\n",
       "      <td>47.5</td>\n",
       "      <td>NaN</td>\n",
       "      <td>NaN</td>\n",
       "      <td>NaN</td>\n",
       "      <td>NaN</td>\n",
       "      <td>NaN</td>\n",
       "      <td>NaN</td>\n",
       "      <td>NaN</td>\n",
       "      <td>NaN</td>\n",
       "      <td>NaN</td>\n",
       "      <td>NaN</td>\n",
       "    </tr>\n",
       "  </tbody>\n",
       "</table>\n",
       "</div>"
      ],
      "text/plain": [
       "   PUBCHEM_RESULT_TAG       SID       CID  \\\n",
       "0                   1  24826444   2374148   \n",
       "1                   2  49669186   5295761   \n",
       "2                   3  49669768  22431387   \n",
       "3                   4   8139962     14296   \n",
       "4                   5  24803435    865684   \n",
       "\n",
       "                     PUBCHEM_EXT_DATASOURCE_SMILES   OUTCOME  \\\n",
       "0                   COC1=CC=C(C=C1)OCC2=NNC(=S)N2N    Active   \n",
       "1     CC1=CC(=C(C=C1)NC2=NC3=CC=CC=C3N4C2=NN=C4)Cl  Inactive   \n",
       "2  CC1=CC(=CC=C1)CCNC2=NC3=C(C=C(C=C3)C)N4C2=NN=C4  Inactive   \n",
       "3                            CC1=C(N=C(C(=N1)C)C)C  Inactive   \n",
       "4        CC1=CC2=NC(=C(C=C2C=C1)C#N)NC3=CC=CC=C3OC  Inactive   \n",
       "\n",
       "   PUBCHEM_ACTIVITY_SCORE  PUBCHEM_ACTIVITY_URL  PUBCHEM_ASSAYDATA_COMMENT  \\\n",
       "0                      40                   NaN                        NaN   \n",
       "1                       0                   NaN                        NaN   \n",
       "2                       0                   NaN                        NaN   \n",
       "3                       0                   NaN                        NaN   \n",
       "4                       0                   NaN                        NaN   \n",
       "\n",
       "  Solubility at pH 7.4_Qualifier_Mean  Solubility at pH 7.4_Mean  \\\n",
       "0                                   =                      10.85   \n",
       "1                                   <                       0.10   \n",
       "2                                   <                       0.10   \n",
       "3                                   <                       0.10   \n",
       "4                                   <                       0.20   \n",
       "\n",
       "   Test Concentration_1 Solubility at pH 7.4_Qualifier_1  \\\n",
       "0                   200                                <   \n",
       "1                   200                                <   \n",
       "2                   200                                <   \n",
       "3                   200                                <   \n",
       "4                   200                                <   \n",
       "\n",
       "   Solubility at pH 7.4_1 Solubility at pH 7.4_Comment_1  \\\n",
       "0                     0.1                      Below LOQ   \n",
       "1                     0.1                      Below LOQ   \n",
       "2                     0.1                      Below LOQ   \n",
       "3                     0.1                      Below LOQ   \n",
       "4                     0.2                      Below LOQ   \n",
       "\n",
       "  Solubility of Astemizole at pH 7.4_Qualifier_1  \\\n",
       "0                                              =   \n",
       "1                                              =   \n",
       "2                                              =   \n",
       "3                                              =   \n",
       "4                                              =   \n",
       "\n",
       "   Solubility of Astemizole at pH 7.4_1  \\\n",
       "0                                  14.2   \n",
       "1                                  12.3   \n",
       "2                                  12.3   \n",
       "3                                  11.4   \n",
       "4                                  11.4   \n",
       "\n",
       "  Solubility of Sulfamethizole at pH 7.4_Qualifier_1  \\\n",
       "0                                                  >   \n",
       "1                                                  >   \n",
       "2                                                  >   \n",
       "3                                                  >   \n",
       "4                                                  >   \n",
       "\n",
       "   Solubility of Sulfamethizole at pH 7.4_1  \\\n",
       "0                                      40.5   \n",
       "1                                      40.5   \n",
       "2                                      40.5   \n",
       "3                                      40.5   \n",
       "4                                      40.5   \n",
       "\n",
       "  Solubility of Imipramine HCl at pH 7.4_Qualifier_1  \\\n",
       "0                                                  >   \n",
       "1                                                  >   \n",
       "2                                                  >   \n",
       "3                                                  >   \n",
       "4                                                  >   \n",
       "\n",
       "   Solubility of Imipramine HCl at pH 7.4_1  Test Concentration_2  \\\n",
       "0                                      47.5                 200.0   \n",
       "1                                      47.5                   NaN   \n",
       "2                                      47.5                   NaN   \n",
       "3                                      47.5                   NaN   \n",
       "4                                      47.5                   NaN   \n",
       "\n",
       "  Solubility at pH 7.4_Qualifier_2  Solubility at pH 7.4_2  \\\n",
       "0                                =                    21.6   \n",
       "1                              NaN                     NaN   \n",
       "2                              NaN                     NaN   \n",
       "3                              NaN                     NaN   \n",
       "4                              NaN                     NaN   \n",
       "\n",
       "  Solubility at pH 7.4_Comment_2  \\\n",
       "0                            NaN   \n",
       "1                            NaN   \n",
       "2                            NaN   \n",
       "3                            NaN   \n",
       "4                            NaN   \n",
       "\n",
       "  Solubility of Astemizole at pH 7.4_Qualifier_2  \\\n",
       "0                                              =   \n",
       "1                                            NaN   \n",
       "2                                            NaN   \n",
       "3                                            NaN   \n",
       "4                                            NaN   \n",
       "\n",
       "   Solubility of Astemizole at pH 7.4_2  \\\n",
       "0                                  27.7   \n",
       "1                                   NaN   \n",
       "2                                   NaN   \n",
       "3                                   NaN   \n",
       "4                                   NaN   \n",
       "\n",
       "  Solubility of Sulfamethizole at pH 7.4_Qualifier_2  \\\n",
       "0                                                  >   \n",
       "1                                                NaN   \n",
       "2                                                NaN   \n",
       "3                                                NaN   \n",
       "4                                                NaN   \n",
       "\n",
       "   Solubility of Sulfamethizole at pH 7.4_2  \\\n",
       "0                                      40.5   \n",
       "1                                       NaN   \n",
       "2                                       NaN   \n",
       "3                                       NaN   \n",
       "4                                       NaN   \n",
       "\n",
       "  Solubility of Imipramine HCl at pH 7.4_Qualifier_2  \\\n",
       "0                                                  >   \n",
       "1                                                NaN   \n",
       "2                                                NaN   \n",
       "3                                                NaN   \n",
       "4                                                NaN   \n",
       "\n",
       "   Solubility of Imipramine HCl at pH 7.4_2  \n",
       "0                                      47.5  \n",
       "1                                       NaN  \n",
       "2                                       NaN  \n",
       "3                                       NaN  \n",
       "4                                       NaN  "
      ]
     },
     "execution_count": 12,
     "metadata": {},
     "output_type": "execute_result"
    }
   ],
   "source": [
    "# Load data from PubChem BioAssay AID 1996 \n",
    "df_solubility = pd.read_csv('pubchem_solubility.csv')\n",
    "\n",
    "# Display the data frame\n",
    "print('Shape of df_solubility: ', df_solubility.shape)\n",
    "df_solubility.head()"
   ]
  },
  {
   "cell_type": "code",
   "execution_count": 13,
   "id": "d52f05e6-6394-44c8-879c-9bc2410d2614",
   "metadata": {},
   "outputs": [],
   "source": [
    "# Create the desired data frame with CID and SID for sifting \n",
    "df_solubility = df_solubility[ 'CID']"
   ]
  },
  {
   "cell_type": "code",
   "execution_count": 14,
   "id": "05463cf3-2087-48b2-8be2-969a11877680",
   "metadata": {},
   "outputs": [],
   "source": [
    "# Sift the main data frame with targets using the solubility data frame \n",
    "df = pd.merge(df_target, df_solubility, on=\"CID\")"
   ]
  },
  {
   "cell_type": "code",
   "execution_count": 15,
   "id": "54c37dfe-7fac-4aa9-8cba-667d0b00e972",
   "metadata": {},
   "outputs": [
    {
     "data": {
      "text/plain": [
       "target\n",
       "0    24185\n",
       "1      291\n",
       "Name: count, dtype: int64"
      ]
     },
     "execution_count": 15,
     "metadata": {},
     "output_type": "execute_result"
    }
   ],
   "source": [
    "df['target'].value_counts()"
   ]
  },
  {
   "cell_type": "code",
   "execution_count": 16,
   "id": "f15e3787-fc79-4a60-8358-9f0a4acaa538",
   "metadata": {},
   "outputs": [
    {
     "data": {
      "text/plain": [
       "(12092, 3)"
      ]
     },
     "execution_count": 16,
     "metadata": {},
     "output_type": "execute_result"
    }
   ],
   "source": [
    "# Samples labled 0\n",
    "df_0 = df[df['target']==0]\n",
    "\n",
    "# Extract every 2th row of samples labled 0   \n",
    "n = 2\n",
    "df_0 = df_0[df_0.index % n == 0] \n",
    "df_0.shape"
   ]
  },
  {
   "cell_type": "code",
   "execution_count": 17,
   "id": "6b0bd386-ed19-4e41-9265-6ede2e055a40",
   "metadata": {},
   "outputs": [
    {
     "data": {
      "text/plain": [
       "target\n",
       "0    12092\n",
       "1     8224\n",
       "Name: count, dtype: int64"
      ]
     },
     "execution_count": 17,
     "metadata": {},
     "output_type": "execute_result"
    }
   ],
   "source": [
    "# Concatenate the sifted target 0 with the original target 1\n",
    "df = pd.concat([df_0, df_target_1])\n",
    "\n",
    "# Count the target\n",
    "df['target'].value_counts()"
   ]
  },
  {
   "cell_type": "markdown",
   "id": "44e8593b-2d8f-46b3-ba48-3957df4216c2",
   "metadata": {},
   "source": [
    "[<a href=\"#content\">Back to top</a>]"
   ]
  },
  {
   "cell_type": "markdown",
   "id": "7a0c3dae-e896-4e89-9662-02e16c035578",
   "metadata": {},
   "source": [
    "## Create csv files <a name=\"4\"></a>"
   ]
  },
  {
   "cell_type": "code",
   "execution_count": 18,
   "id": "f86fa454",
   "metadata": {},
   "outputs": [],
   "source": [
    "# Create a dataframe with CID and SMILES columns\n",
    "df_smiles = df[['CID', 'SMILES']]\n",
    "\n",
    "df_smiles = df_smiles.sample(\n",
    "    frac = 1,        # Return entire dataframe\n",
    "    random_state=1   # Make result reproducible\n",
    "    ).reset_index(drop=True)\n",
    "\n",
    "# Create a csv file from the resulted dataframe\n",
    "df_smiles.to_csv('smiles.csv', index=False)  "
   ]
  },
  {
   "cell_type": "code",
   "execution_count": 19,
   "id": "ada2071a",
   "metadata": {},
   "outputs": [],
   "source": [
    "# Create a dataframe with the targets\n",
    "df = df[['SMILES', 'target']]\n",
    "\n",
    "# Create a csv file with the targets\n",
    "df.to_csv('targets.csv', index=False)"
   ]
  },
  {
   "cell_type": "markdown",
   "id": "f7d33e4f-512b-459f-9a9e-7b64f11c7a91",
   "metadata": {},
   "source": [
    "[<a href=\"#content\">Back to top</a>]"
   ]
  }
 ],
 "metadata": {
  "kernelspec": {
   "display_name": "Python 3 (ipykernel)",
   "language": "python",
   "name": "python3"
  },
  "language_info": {
   "codemirror_mode": {
    "name": "ipython",
    "version": 3
   },
   "file_extension": ".py",
   "mimetype": "text/x-python",
   "name": "python",
   "nbconvert_exporter": "python",
   "pygments_lexer": "ipython3",
   "version": "3.12.2"
  }
 },
 "nbformat": 4,
 "nbformat_minor": 5
}
