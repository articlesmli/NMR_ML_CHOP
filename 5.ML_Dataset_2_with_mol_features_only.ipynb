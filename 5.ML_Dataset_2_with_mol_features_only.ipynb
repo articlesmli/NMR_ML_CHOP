{
 "cells": [
  {
   "cell_type": "markdown",
   "id": "18f6f4f5-a126-4c4f-950b-8cc6ffa916b6",
   "metadata": {},
   "source": [
    "# Predicting CHOP inhibitors with 13C NMR spectroscopic data. Dataset 2."
   ]
  },
  {
   "cell_type": "markdown",
   "id": "1dcf9d82-657a-4656-b3f3-c8905d770694",
   "metadata": {},
   "source": [
    "## Content   <a name=\"content\"></a>"
   ]
  },
  {
   "cell_type": "markdown",
   "id": "b3551b8d-c497-4ba0-b627-ebcdd8e64a99",
   "metadata": {},
   "source": [
    "1. [Upload and process H1 NMR spectroscopy data](#1)\n",
    "2. [Create a dataframe merging the C13and H1 NMR data frames to the data frame holding the labels](#2)\n",
    "3. [Ensure an equal number of classes in the test sets](#3)\n",
    "4. [Balancing](#4)\n",
    "5. [Machine Learning](#5)\n",
    "6. [Five-fold cross validation](#6)\n",
    "7. [Scrutinise for overfitting of the MLmodel with default hyperparameter values (kernel='rbf', C=1.0, gamma=’scale’](#7)\n",
    "8. [Hyperparameter tununing by Optuna](#8)\n",
    "9.  [Scrutinise for overfitting using hyperparameter tuned by Optuna](#9)\n",
    "10. [Final ML model](#10)\n",
    "11. [Plot the learning curve and ROC](#11)\n",
    "12. [Confusion matrix, classification report and AUC](#12)"
   ]
  },
  {
   "cell_type": "markdown",
   "id": "9d5283e0-b71b-440e-b4df-30fb3b6a31b0",
   "metadata": {},
   "source": [
    "## Upload dataset with atomic features<a name=\"1\"></a>"
   ]
  },
  {
   "cell_type": "code",
   "execution_count": 1,
   "id": "129199b9-df32-4bc1-b939-56d9b5c37b95",
   "metadata": {},
   "outputs": [
    {
     "name": "stdout",
     "output_type": "stream",
     "text": [
      "Shape of df_atmc_features:  (20309, 8)\n"
     ]
    },
    {
     "data": {
      "text/html": [
       "<div>\n",
       "<style scoped>\n",
       "    .dataframe tbody tr th:only-of-type {\n",
       "        vertical-align: middle;\n",
       "    }\n",
       "\n",
       "    .dataframe tbody tr th {\n",
       "        vertical-align: top;\n",
       "    }\n",
       "\n",
       "    .dataframe thead th {\n",
       "        text-align: right;\n",
       "    }\n",
       "</style>\n",
       "<table border=\"1\" class=\"dataframe\">\n",
       "  <thead>\n",
       "    <tr style=\"text-align: right;\">\n",
       "      <th></th>\n",
       "      <th>CID</th>\n",
       "      <th>MW</th>\n",
       "      <th>TPSA</th>\n",
       "      <th>XLogP</th>\n",
       "      <th>DON</th>\n",
       "      <th>ACC</th>\n",
       "      <th>RBC</th>\n",
       "      <th>SMILES</th>\n",
       "    </tr>\n",
       "  </thead>\n",
       "  <tbody>\n",
       "    <tr>\n",
       "      <th>0</th>\n",
       "      <td>6368310</td>\n",
       "      <td>286.29</td>\n",
       "      <td>96.6</td>\n",
       "      <td>0.7</td>\n",
       "      <td>2.0</td>\n",
       "      <td>5.0</td>\n",
       "      <td>5.0</td>\n",
       "      <td>C/C(=N/NC(=O)CNC(=O)C1=CC=NC=C1)/C2=CC=CO2</td>\n",
       "    </tr>\n",
       "    <tr>\n",
       "      <th>1</th>\n",
       "      <td>2151930</td>\n",
       "      <td>324.40</td>\n",
       "      <td>58.6</td>\n",
       "      <td>2.7</td>\n",
       "      <td>1.0</td>\n",
       "      <td>3.0</td>\n",
       "      <td>4.0</td>\n",
       "      <td>CC1=CC(=CC=C1)NC(=O)COC2=CC=CC3=C2CCN(C3=O)C</td>\n",
       "    </tr>\n",
       "    <tr>\n",
       "      <th>2</th>\n",
       "      <td>3243410</td>\n",
       "      <td>348.50</td>\n",
       "      <td>150.0</td>\n",
       "      <td>3.9</td>\n",
       "      <td>1.0</td>\n",
       "      <td>7.0</td>\n",
       "      <td>5.0</td>\n",
       "      <td>CC1=CC(=CC=C1)C2=NSC(=N2)SCC(=O)NC3=NC=CS3</td>\n",
       "    </tr>\n",
       "    <tr>\n",
       "      <th>3</th>\n",
       "      <td>4280557</td>\n",
       "      <td>431.50</td>\n",
       "      <td>110.0</td>\n",
       "      <td>4.0</td>\n",
       "      <td>1.0</td>\n",
       "      <td>6.0</td>\n",
       "      <td>8.0</td>\n",
       "      <td>CC(C)CN1C(=C(C(=O)N(C1=O)C)C(=O)COC(=O)CC23CC4...</td>\n",
       "    </tr>\n",
       "    <tr>\n",
       "      <th>4</th>\n",
       "      <td>2756596</td>\n",
       "      <td>191.19</td>\n",
       "      <td>68.0</td>\n",
       "      <td>1.0</td>\n",
       "      <td>1.0</td>\n",
       "      <td>4.0</td>\n",
       "      <td>2.0</td>\n",
       "      <td>CC(C(=O)O)N1C2=CC=CC=C2N=N1</td>\n",
       "    </tr>\n",
       "  </tbody>\n",
       "</table>\n",
       "</div>"
      ],
      "text/plain": [
       "       CID      MW   TPSA  XLogP  DON  ACC  RBC  \\\n",
       "0  6368310  286.29   96.6    0.7  2.0  5.0  5.0   \n",
       "1  2151930  324.40   58.6    2.7  1.0  3.0  4.0   \n",
       "2  3243410  348.50  150.0    3.9  1.0  7.0  5.0   \n",
       "3  4280557  431.50  110.0    4.0  1.0  6.0  8.0   \n",
       "4  2756596  191.19   68.0    1.0  1.0  4.0  2.0   \n",
       "\n",
       "                                              SMILES  \n",
       "0         C/C(=N/NC(=O)CNC(=O)C1=CC=NC=C1)/C2=CC=CO2  \n",
       "1       CC1=CC(=CC=C1)NC(=O)COC2=CC=CC3=C2CCN(C3=O)C  \n",
       "2         CC1=CC(=CC=C1)C2=NSC(=N2)SCC(=O)NC3=NC=CS3  \n",
       "3  CC(C)CN1C(=C(C(=O)N(C1=O)C)C(=O)COC(=O)CC23CC4...  \n",
       "4                        CC(C(=O)O)N1C2=CC=CC=C2N=N1  "
      ]
     },
     "execution_count": 1,
     "metadata": {},
     "output_type": "execute_result"
    }
   ],
   "source": [
    "import pandas as pd\n",
    "\n",
    "# load the converted nmr dataset\n",
    "df_atmc_features = pd.read_csv('atomic_features_PubChem.csv', sep=';')\n",
    "\n",
    "# Display the data frame\n",
    "print('Shape of df_atmc_features: ',df_atmc_features.shape)\n",
    "df_atmc_features.head()"
   ]
  },
  {
   "attachments": {},
   "cell_type": "markdown",
   "id": "df2fa6d2-85e5-488f-b53a-1c6f6861c43c",
   "metadata": {},
   "source": [
    "[Back to top]\n",
    "\n",
    "## Create a dataframe merging the NMR data frame to the data frame holding the labels  <a name=\"2\"></a>"
   ]
  },
  {
   "cell_type": "code",
   "execution_count": 2,
   "id": "77dab9d2-38f2-474c-9cf4-739f44538ace",
   "metadata": {},
   "outputs": [
    {
     "name": "stdout",
     "output_type": "stream",
     "text": [
      "Shape of df_targets:  (20316, 2)\n"
     ]
    },
    {
     "data": {
      "text/html": [
       "<div>\n",
       "<style scoped>\n",
       "    .dataframe tbody tr th:only-of-type {\n",
       "        vertical-align: middle;\n",
       "    }\n",
       "\n",
       "    .dataframe tbody tr th {\n",
       "        vertical-align: top;\n",
       "    }\n",
       "\n",
       "    .dataframe thead th {\n",
       "        text-align: right;\n",
       "    }\n",
       "</style>\n",
       "<table border=\"1\" class=\"dataframe\">\n",
       "  <thead>\n",
       "    <tr style=\"text-align: right;\">\n",
       "      <th></th>\n",
       "      <th>SMILES</th>\n",
       "      <th>target</th>\n",
       "    </tr>\n",
       "  </thead>\n",
       "  <tbody>\n",
       "    <tr>\n",
       "      <th>0</th>\n",
       "      <td>CCOC1=CC=C(C=C1)NC(=O)NNC(=O)C2=C(C=C(C=C2)Cl)Cl</td>\n",
       "      <td>0</td>\n",
       "    </tr>\n",
       "    <tr>\n",
       "      <th>1</th>\n",
       "      <td>CC(C(C)(C)C)NC(=S)NC1=CC(=C(C=C1)OC(F)F)Cl</td>\n",
       "      <td>0</td>\n",
       "    </tr>\n",
       "    <tr>\n",
       "      <th>2</th>\n",
       "      <td>CC1=C2CCCCC2=C3C(=C(SC3=N1)C(=O)N)N</td>\n",
       "      <td>0</td>\n",
       "    </tr>\n",
       "    <tr>\n",
       "      <th>3</th>\n",
       "      <td>CC1=CC2=C(C=C1)NC3=C2CCC4=C3NN=C4</td>\n",
       "      <td>0</td>\n",
       "    </tr>\n",
       "    <tr>\n",
       "      <th>4</th>\n",
       "      <td>CN(C)S(=O)(=O)C1=CC=C(C=C1)C2=CSC(=N2)N/N=C/C3...</td>\n",
       "      <td>0</td>\n",
       "    </tr>\n",
       "  </tbody>\n",
       "</table>\n",
       "</div>"
      ],
      "text/plain": [
       "                                              SMILES  target\n",
       "0   CCOC1=CC=C(C=C1)NC(=O)NNC(=O)C2=C(C=C(C=C2)Cl)Cl       0\n",
       "1         CC(C(C)(C)C)NC(=S)NC1=CC(=C(C=C1)OC(F)F)Cl       0\n",
       "2                CC1=C2CCCCC2=C3C(=C(SC3=N1)C(=O)N)N       0\n",
       "3                  CC1=CC2=C(C=C1)NC3=C2CCC4=C3NN=C4       0\n",
       "4  CN(C)S(=O)(=O)C1=CC=C(C=C1)C2=CSC(=N2)N/N=C/C3...       0"
      ]
     },
     "execution_count": 2,
     "metadata": {},
     "output_type": "execute_result"
    }
   ],
   "source": [
    "# load the dataset with targets\n",
    "df_targets = pd.read_csv('input/targets.csv')\n",
    "\n",
    "# Display the data frame\n",
    "print('Shape of df_targets: ', df_targets.shape)\n",
    "df_targets.head()"
   ]
  },
  {
   "cell_type": "code",
   "execution_count": 3,
   "id": "ce3557da-fbba-47fc-9207-2e1da77ba4f9",
   "metadata": {},
   "outputs": [],
   "source": [
    "# Merge the target and nmr data \n",
    "df = pd.merge( df_atmc_features, df_targets, on='SMILES', how='inner')"
   ]
  },
  {
   "cell_type": "code",
   "execution_count": 4,
   "id": "ba3a89e4-aff7-4b9a-8076-b2ad240992af",
   "metadata": {},
   "outputs": [
    {
     "name": "stdout",
     "output_type": "stream",
     "text": [
      "Shape of df:  (19504, 9)\n"
     ]
    },
    {
     "data": {
      "text/html": [
       "<div>\n",
       "<style scoped>\n",
       "    .dataframe tbody tr th:only-of-type {\n",
       "        vertical-align: middle;\n",
       "    }\n",
       "\n",
       "    .dataframe tbody tr th {\n",
       "        vertical-align: top;\n",
       "    }\n",
       "\n",
       "    .dataframe thead th {\n",
       "        text-align: right;\n",
       "    }\n",
       "</style>\n",
       "<table border=\"1\" class=\"dataframe\">\n",
       "  <thead>\n",
       "    <tr style=\"text-align: right;\">\n",
       "      <th></th>\n",
       "      <th>CID</th>\n",
       "      <th>MW</th>\n",
       "      <th>TPSA</th>\n",
       "      <th>XLogP</th>\n",
       "      <th>DON</th>\n",
       "      <th>ACC</th>\n",
       "      <th>RBC</th>\n",
       "      <th>SMILES</th>\n",
       "      <th>target</th>\n",
       "    </tr>\n",
       "  </thead>\n",
       "  <tbody>\n",
       "    <tr>\n",
       "      <th>0</th>\n",
       "      <td>6368310</td>\n",
       "      <td>286.29</td>\n",
       "      <td>96.6</td>\n",
       "      <td>0.7</td>\n",
       "      <td>2.0</td>\n",
       "      <td>5.0</td>\n",
       "      <td>5.0</td>\n",
       "      <td>C/C(=N/NC(=O)CNC(=O)C1=CC=NC=C1)/C2=CC=CO2</td>\n",
       "      <td>0</td>\n",
       "    </tr>\n",
       "    <tr>\n",
       "      <th>1</th>\n",
       "      <td>2151930</td>\n",
       "      <td>324.40</td>\n",
       "      <td>58.6</td>\n",
       "      <td>2.7</td>\n",
       "      <td>1.0</td>\n",
       "      <td>3.0</td>\n",
       "      <td>4.0</td>\n",
       "      <td>CC1=CC(=CC=C1)NC(=O)COC2=CC=CC3=C2CCN(C3=O)C</td>\n",
       "      <td>0</td>\n",
       "    </tr>\n",
       "    <tr>\n",
       "      <th>2</th>\n",
       "      <td>3243410</td>\n",
       "      <td>348.50</td>\n",
       "      <td>150.0</td>\n",
       "      <td>3.9</td>\n",
       "      <td>1.0</td>\n",
       "      <td>7.0</td>\n",
       "      <td>5.0</td>\n",
       "      <td>CC1=CC(=CC=C1)C2=NSC(=N2)SCC(=O)NC3=NC=CS3</td>\n",
       "      <td>1</td>\n",
       "    </tr>\n",
       "    <tr>\n",
       "      <th>3</th>\n",
       "      <td>4280557</td>\n",
       "      <td>431.50</td>\n",
       "      <td>110.0</td>\n",
       "      <td>4.0</td>\n",
       "      <td>1.0</td>\n",
       "      <td>6.0</td>\n",
       "      <td>8.0</td>\n",
       "      <td>CC(C)CN1C(=C(C(=O)N(C1=O)C)C(=O)COC(=O)CC23CC4...</td>\n",
       "      <td>1</td>\n",
       "    </tr>\n",
       "    <tr>\n",
       "      <th>4</th>\n",
       "      <td>2756596</td>\n",
       "      <td>191.19</td>\n",
       "      <td>68.0</td>\n",
       "      <td>1.0</td>\n",
       "      <td>1.0</td>\n",
       "      <td>4.0</td>\n",
       "      <td>2.0</td>\n",
       "      <td>CC(C(=O)O)N1C2=CC=CC=C2N=N1</td>\n",
       "      <td>0</td>\n",
       "    </tr>\n",
       "  </tbody>\n",
       "</table>\n",
       "</div>"
      ],
      "text/plain": [
       "       CID      MW   TPSA  XLogP  DON  ACC  RBC  \\\n",
       "0  6368310  286.29   96.6    0.7  2.0  5.0  5.0   \n",
       "1  2151930  324.40   58.6    2.7  1.0  3.0  4.0   \n",
       "2  3243410  348.50  150.0    3.9  1.0  7.0  5.0   \n",
       "3  4280557  431.50  110.0    4.0  1.0  6.0  8.0   \n",
       "4  2756596  191.19   68.0    1.0  1.0  4.0  2.0   \n",
       "\n",
       "                                              SMILES  target  \n",
       "0         C/C(=N/NC(=O)CNC(=O)C1=CC=NC=C1)/C2=CC=CO2       0  \n",
       "1       CC1=CC(=CC=C1)NC(=O)COC2=CC=CC3=C2CCN(C3=O)C       0  \n",
       "2         CC1=CC(=CC=C1)C2=NSC(=N2)SCC(=O)NC3=NC=CS3       1  \n",
       "3  CC(C)CN1C(=C(C(=O)N(C1=O)C)C(=O)COC(=O)CC23CC4...       1  \n",
       "4                        CC(C(=O)O)N1C2=CC=CC=C2N=N1       0  "
      ]
     },
     "execution_count": 4,
     "metadata": {},
     "output_type": "execute_result"
    }
   ],
   "source": [
    "# Display the data frame\n",
    "print('Shape of df: ', df.shape)\n",
    "df.head()"
   ]
  },
  {
   "cell_type": "code",
   "execution_count": 5,
   "id": "e5b90f3e-f689-4f2a-acd7-10022b560b4c",
   "metadata": {},
   "outputs": [],
   "source": [
    "# Drop categorical values\n",
    "df.drop(columns=['CID','SMILES'], axis=1, inplace=True)"
   ]
  },
  {
   "cell_type": "code",
   "execution_count": 6,
   "id": "355d16ea-9580-44d5-944c-cab3d325f7a9",
   "metadata": {},
   "outputs": [
    {
     "name": "stdout",
     "output_type": "stream",
     "text": [
      "The unique values in column 'target: [0 1]\n"
     ]
    }
   ],
   "source": [
    "# Detect classes \n",
    "unique_count = df['target'].unique()\n",
    "print(\"The unique values in column 'target:\", unique_count)"
   ]
  },
  {
   "cell_type": "code",
   "execution_count": 7,
   "id": "41f2099e-2543-4a7c-9cee-a935ea4d3c9d",
   "metadata": {},
   "outputs": [],
   "source": [
    "# Drop rows with any NaN values\n",
    "df = df.dropna()"
   ]
  },
  {
   "cell_type": "code",
   "execution_count": 8,
   "id": "d13e02f5-3f9e-4ad2-beb5-07b66a15fc6c",
   "metadata": {},
   "outputs": [
    {
     "data": {
      "text/plain": [
       "target\n",
       "0    11592\n",
       "1     7909\n",
       "Name: count, dtype: int64"
      ]
     },
     "execution_count": 8,
     "metadata": {},
     "output_type": "execute_result"
    }
   ],
   "source": [
    "# Count each of the binary targets\n",
    "df['target'].value_counts()"
   ]
  },
  {
   "cell_type": "markdown",
   "id": "5c429017-1f6a-491a-a939-1e5ef3ef25c3",
   "metadata": {},
   "source": [
    "[<a href=\"#content\">Back to top</a>]"
   ]
  },
  {
   "cell_type": "markdown",
   "id": "20d58f9e-951b-4bcb-b298-8e574dfb26ba",
   "metadata": {},
   "source": [
    "## Ensure an equal number of classes in the test sets <a name=\"3\"></a>"
   ]
  },
  {
   "cell_type": "code",
   "execution_count": 9,
   "id": "979c583d-44dc-428b-bfce-daaba1e9fef9",
   "metadata": {},
   "outputs": [],
   "source": [
    "# Handle the part of target 1 in the test set \n",
    "df_1 = df[df['target']==1]\n",
    "\n",
    "# Shuffle the resulting data set\n",
    "df_1 = df_1.sample(\n",
    "    frac = 1,        # Return entire dataframe\n",
    "    random_state=1   # Make result reproducible\n",
    "    ).reset_index(drop=True)\n",
    "\n",
    "# Extract 2800 samples (10% of 28000 samples) of target 1 for the test set\n",
    "df_1_test = df_1.iloc[:2000]\n",
    "\n",
    "# Assign the rest of target 1 for the train set\n",
    "df_1_train = df_1.iloc[2000:]"
   ]
  },
  {
   "cell_type": "code",
   "execution_count": 10,
   "id": "26359e8b-1724-4025-9711-3d8b2e75eacd",
   "metadata": {},
   "outputs": [],
   "source": [
    "# Handle the part of target 0 in the test set \n",
    "df_0 = df[df['target']==0]\n",
    "\n",
    "# Shuffle the resulting data set\n",
    "df_0 = df_0.sample(\n",
    "    frac = 1,        # Return entire dataframe\n",
    "    random_state=1   # Make result reproducible\n",
    "    ).reset_index(drop=True)\n",
    "\n",
    "## Extract 2800 samples (10% of 28000 samples) of target 0 for the test set Extract 10% of target 1 for the test set\n",
    "df_0_test = df_0.iloc[:2000]\n",
    "\n",
    "# Assign the rest of target 1 for the train set\n",
    "df_0_train = df_0.iloc[2000:]"
   ]
  },
  {
   "cell_type": "code",
   "execution_count": 11,
   "id": "3495512d-238e-4c18-9e16-5083bf8315ff",
   "metadata": {},
   "outputs": [],
   "source": [
    "# Create train and test dataframe for further manipulation \n",
    "train = pd.concat([df_0_train, df_1_train])\n",
    "test = pd.concat([df_0_test, df_1_test])"
   ]
  },
  {
   "cell_type": "code",
   "execution_count": 12,
   "id": "77609d2d-647e-4969-becf-807c651763fb",
   "metadata": {},
   "outputs": [],
   "source": [
    "# Create the sets for ML \n",
    "X_train = train.drop(columns='target' , axis=1)\n",
    "y_train = train['target']\n",
    "\n",
    "X_test =  test.drop(columns='target' , axis=1)\n",
    "y_test = test['target']"
   ]
  },
  {
   "cell_type": "code",
   "execution_count": 13,
   "id": "f4ada07e-c7b7-4a74-b6fa-b43781be574a",
   "metadata": {},
   "outputs": [],
   "source": [
    "# Create X and y datasets to use for cross-validation\n",
    "X = pd.concat([X_train, X_test]) \n",
    "y = pd.concat([y_train, y_test]) "
   ]
  },
  {
   "cell_type": "code",
   "execution_count": 14,
   "id": "fc467b37-f420-47ef-8458-d74a79f3d605",
   "metadata": {},
   "outputs": [
    {
     "data": {
      "text/plain": [
       "target\n",
       "0    2000\n",
       "1    2000\n",
       "Name: count, dtype: int64"
      ]
     },
     "execution_count": 14,
     "metadata": {},
     "output_type": "execute_result"
    }
   ],
   "source": [
    "# Check the number of classes in the y_test set\n",
    "y_test.value_counts()"
   ]
  },
  {
   "cell_type": "code",
   "execution_count": 15,
   "id": "55e340c9-be26-4fa4-990f-b5b970723df8",
   "metadata": {},
   "outputs": [
    {
     "name": "stdout",
     "output_type": "stream",
     "text": [
      "Shapes:\n",
      "X_train:  (15501, 6)\n",
      "X_test:   (4000, 6)\n",
      "y_train:  (15501,)\n",
      "y_test:   (4000,)\n"
     ]
    }
   ],
   "source": [
    "# Print the shape of each part\n",
    "print(\"Shapes:\")\n",
    "print(\"X_train: \", X_train.shape)\n",
    "print(\"X_test:  \", X_test.shape)\n",
    "print(\"y_train: \", y_train.shape)\n",
    "print(\"y_test:  \", y_test.shape)"
   ]
  },
  {
   "cell_type": "markdown",
   "id": "5f298403-943d-48df-8472-a3741508ed75",
   "metadata": {},
   "source": [
    "[<a href=\"#content\">Back to top</a>]"
   ]
  },
  {
   "cell_type": "markdown",
   "id": "db34b983-1358-4515-9752-d787f5f138ef",
   "metadata": {},
   "source": [
    "## Balancing <a name=\"4\"></a>"
   ]
  },
  {
   "cell_type": "code",
   "execution_count": 16,
   "id": "08c0029d-e970-4c96-8923-d97c29e8c33a",
   "metadata": {},
   "outputs": [
    {
     "name": "stdout",
     "output_type": "stream",
     "text": [
      "[(0, 9592), (1, 5909)]\n"
     ]
    },
    {
     "data": {
      "image/png": "[encoded data removed]",
      "text/plain": [
       "<Figure size 640x480 with 1 Axes>"
      ]
     },
     "metadata": {},
     "output_type": "display_data"
    }
   ],
   "source": [
    "from collections import Counter\n",
    "from matplotlib import pyplot as plt\n",
    "import seaborn as sns\n",
    "\n",
    "# Plot the imbalance between the targets \n",
    "print(sorted(Counter(y_train).items()))\n",
    "sns.set_style('white')\n",
    "sns.set(font_scale=1)\n",
    "plt.figure()\n",
    "sns.countplot(x=y_train, hue=y_train, palette='nipy_spectral')\n",
    "plt.show()"
   ]
  },
  {
   "cell_type": "code",
   "execution_count": 17,
   "id": "f1edf70f-3142-4e97-8f77-c027198fb2e7",
   "metadata": {},
   "outputs": [
    {
     "name": "stdout",
     "output_type": "stream",
     "text": [
      "[(0, 9592), (1, 9592)]\n"
     ]
    },
    {
     "data": {
      "image/png": "[encoded data removed]",
      "text/plain": [
       "<Figure size 640x480 with 1 Axes>"
      ]
     },
     "metadata": {},
     "output_type": "display_data"
    }
   ],
   "source": [
    "from imblearn.over_sampling import RandomOverSampler\n",
    "\n",
    "# Balance targets with Synthetic Minority Oversampling Technique\n",
    "ros = RandomOverSampler()\n",
    "\n",
    "X_train, y_train = ros.fit_resample(X_train, y_train)\n",
    "\n",
    "# Plot the balance between classification targets \n",
    "print(sorted(Counter(y_train).items()))\n",
    "sns.set_style('white')\n",
    "sns.set(font_scale=1)\n",
    "plt.figure()\n",
    "sns.countplot(x=y_train, hue=y_train,palette='nipy_spectral')\n",
    "plt.show()"
   ]
  },
  {
   "cell_type": "code",
   "execution_count": 18,
   "id": "e0bf6fce-fe09-439a-9b97-a452b85f04fa",
   "metadata": {},
   "outputs": [
    {
     "name": "stdout",
     "output_type": "stream",
     "text": [
      "Shapes:\n",
      "X_train:  (19184, 6)\n",
      "X_test:   (4000, 6)\n",
      "y_train:  (19184,)\n",
      "y_test:   (4000,)\n"
     ]
    }
   ],
   "source": [
    "# Print the shape of each part\n",
    "print(\"Shapes:\")\n",
    "print(\"X_train: \", X_train.shape)\n",
    "print(\"X_test:  \", X_test.shape)\n",
    "print(\"y_train: \", y_train.shape)\n",
    "print(\"y_test:  \", y_test.shape)"
   ]
  },
  {
   "cell_type": "markdown",
   "id": "6112ffb9-3678-42e0-a5f9-9f425e4e43ee",
   "metadata": {},
   "source": [
    "[<a href=\"#content\">Back to top</a>]"
   ]
  },
  {
   "cell_type": "markdown",
   "id": "9300f297-ea78-412a-ae66-c77a4e356152",
   "metadata": {},
   "source": [
    "## Machine Learning <a name=\"5\"></a>"
   ]
  },
  {
   "cell_type": "code",
   "execution_count": 19,
   "id": "ee639428-9caf-47a5-b27d-78f89e335a04",
   "metadata": {},
   "outputs": [],
   "source": [
    "from sklearn.svm import SVC\n",
    "from sklearn.tree import DecisionTreeClassifier\n",
    "from sklearn.ensemble import RandomForestClassifier\n",
    "from sklearn.ensemble import GradientBoostingClassifier\n",
    "from xgboost import XGBClassifier\n",
    "from sklearn.neighbors import KNeighborsClassifier\n",
    "\n",
    "# Instantiate the algorithms that will be used, placing them in a dictionary \n",
    "clfs = {\"SVM\":SVC(),\n",
    "        \"Decision\":DecisionTreeClassifier(), \n",
    "        \"RandomForest\":RandomForestClassifier(), \n",
    "        \"GradientBoost\":GradientBoostingClassifier(),\n",
    "        \"K-nearest\": KNeighborsClassifier(n_neighbors=3)}"
   ]
  },
  {
   "cell_type": "code",
   "execution_count": 20,
   "id": "2dcd3f1c-f5f2-4c13-93af-b21df600e06e",
   "metadata": {
    "scrolled": true
   },
   "outputs": [
    {
     "data": {
      "text/html": [
       "<div>\n",
       "<style scoped>\n",
       "    .dataframe tbody tr th:only-of-type {\n",
       "        vertical-align: middle;\n",
       "    }\n",
       "\n",
       "    .dataframe tbody tr th {\n",
       "        vertical-align: top;\n",
       "    }\n",
       "\n",
       "    .dataframe thead th {\n",
       "        text-align: right;\n",
       "    }\n",
       "</style>\n",
       "<table border=\"1\" class=\"dataframe\">\n",
       "  <thead>\n",
       "    <tr style=\"text-align: right;\">\n",
       "      <th></th>\n",
       "      <th>1.Algorithm</th>\n",
       "      <th>2.Accuracy</th>\n",
       "      <th>3.Precision</th>\n",
       "      <th>4.Recall</th>\n",
       "      <th>5.F1</th>\n",
       "      <th>6.ROC</th>\n",
       "    </tr>\n",
       "  </thead>\n",
       "  <tbody>\n",
       "    <tr>\n",
       "      <th>3</th>\n",
       "      <td>GradientBoost</td>\n",
       "      <td>0.807</td>\n",
       "      <td>0.826</td>\n",
       "      <td>0.778</td>\n",
       "      <td>0.801</td>\n",
       "      <td>0.807</td>\n",
       "    </tr>\n",
       "    <tr>\n",
       "      <th>2</th>\n",
       "      <td>RandomForest</td>\n",
       "      <td>0.803</td>\n",
       "      <td>0.850</td>\n",
       "      <td>0.737</td>\n",
       "      <td>0.790</td>\n",
       "      <td>0.804</td>\n",
       "    </tr>\n",
       "    <tr>\n",
       "      <th>0</th>\n",
       "      <td>SVM</td>\n",
       "      <td>0.764</td>\n",
       "      <td>0.857</td>\n",
       "      <td>0.634</td>\n",
       "      <td>0.729</td>\n",
       "      <td>0.764</td>\n",
       "    </tr>\n",
       "    <tr>\n",
       "      <th>1</th>\n",
       "      <td>Decision</td>\n",
       "      <td>0.752</td>\n",
       "      <td>0.785</td>\n",
       "      <td>0.694</td>\n",
       "      <td>0.737</td>\n",
       "      <td>0.752</td>\n",
       "    </tr>\n",
       "    <tr>\n",
       "      <th>4</th>\n",
       "      <td>K-nearest</td>\n",
       "      <td>0.729</td>\n",
       "      <td>0.739</td>\n",
       "      <td>0.708</td>\n",
       "      <td>0.723</td>\n",
       "      <td>0.729</td>\n",
       "    </tr>\n",
       "  </tbody>\n",
       "</table>\n",
       "</div>"
      ],
      "text/plain": [
       "     1.Algorithm  2.Accuracy  3.Precision  4.Recall   5.F1  6.ROC\n",
       "3  GradientBoost       0.807        0.826     0.778  0.801  0.807\n",
       "2   RandomForest       0.803        0.850     0.737  0.790  0.804\n",
       "0            SVM       0.764        0.857     0.634  0.729  0.764\n",
       "1       Decision       0.752        0.785     0.694  0.737  0.752\n",
       "4      K-nearest       0.729        0.739     0.708  0.723  0.729"
      ]
     },
     "execution_count": 20,
     "metadata": {},
     "output_type": "execute_result"
    }
   ],
   "source": [
    "from sklearn.metrics import f1_score, accuracy_score, precision_score, recall_score, roc_auc_score\n",
    "\n",
    "# Create statistics with the results of training with different algorithms\n",
    "def model_fit(clfs):\n",
    "    fitted_model={}\n",
    "    model_result = pd.DataFrame()\n",
    "    # Iterate the clfs dictionary clfs\n",
    "    for model_name, model in clfs.items():\n",
    "        # Train the current model\n",
    "        model.fit(X_train,y_train)\n",
    "        # Add the current model name\n",
    "        fitted_model.update({model_name:model})\n",
    "        # Prediction of the current model \n",
    "        y_pred = model.predict(X_test)\n",
    "        model_dict = {}\n",
    "        model_dict['1.Algorithm'] = model_name\n",
    "        # Calculate the metrics\n",
    "        model_dict['2.Accuracy'] = round(accuracy_score(y_test, y_pred),3)\n",
    "        model_dict['3.Precision'] = round(precision_score(y_test, y_pred),3)\n",
    "        model_dict['4.Recall'] = round(recall_score(y_test, y_pred),3)\n",
    "        model_dict['5.F1'] = round(f1_score(y_test, y_pred),3)\n",
    "        model_dict['6.ROC'] = round(roc_auc_score(y_test, y_pred),3)\n",
    "        model_result = model_result._append(model_dict,ignore_index=True)\n",
    "    return fitted_model, model_result\n",
    "\n",
    "# Run the function model_fit(clfs) \n",
    "fitted_model, model_result = model_fit(clfs)\n",
    "\n",
    "# Display the results of the model_fit(clfs) function in a descending order\n",
    "model_result.sort_values(by=['2.Accuracy'],ascending=False)"
   ]
  },
  {
   "cell_type": "markdown",
   "id": "d260a993-0557-47cb-bd13-028b122def86",
   "metadata": {},
   "source": [
    "[<a href=\"#content\">Back to top</a>]"
   ]
  },
  {
   "cell_type": "markdown",
   "id": "cafc72f1-8d46-4548-999e-8e4cba39f1a0",
   "metadata": {},
   "source": [
    "## Five-fold cross-validation  <a name=\"6\"></a>"
   ]
  },
  {
   "cell_type": "code",
   "execution_count": 21,
   "id": "36c0516d-430d-4c67-8df5-2cdb8dcb8e1c",
   "metadata": {},
   "outputs": [
    {
     "data": {
      "text/html": [
       "<div>\n",
       "<style scoped>\n",
       "    .dataframe tbody tr th:only-of-type {\n",
       "        vertical-align: middle;\n",
       "    }\n",
       "\n",
       "    .dataframe tbody tr th {\n",
       "        vertical-align: top;\n",
       "    }\n",
       "\n",
       "    .dataframe thead th {\n",
       "        text-align: right;\n",
       "    }\n",
       "</style>\n",
       "<table border=\"1\" class=\"dataframe\">\n",
       "  <thead>\n",
       "    <tr style=\"text-align: right;\">\n",
       "      <th></th>\n",
       "      <th>1.Algorithm</th>\n",
       "      <th>2.Mean CV Score</th>\n",
       "      <th>3.Standard Deviation</th>\n",
       "      <th>4.List of CV Scores</th>\n",
       "    </tr>\n",
       "  </thead>\n",
       "  <tbody>\n",
       "    <tr>\n",
       "      <th>2</th>\n",
       "      <td>RandomForest</td>\n",
       "      <td>0.8871</td>\n",
       "      <td>0.0286</td>\n",
       "      <td>[0.866, 0.8676, 0.8593, 0.9132, 0.9296]</td>\n",
       "    </tr>\n",
       "    <tr>\n",
       "      <th>1</th>\n",
       "      <td>Decision</td>\n",
       "      <td>0.8416</td>\n",
       "      <td>0.0296</td>\n",
       "      <td>[0.8183, 0.8165, 0.8189, 0.8679, 0.8863]</td>\n",
       "    </tr>\n",
       "    <tr>\n",
       "      <th>3</th>\n",
       "      <td>GradientBoost</td>\n",
       "      <td>0.8099</td>\n",
       "      <td>0.0038</td>\n",
       "      <td>[0.8053, 0.8165, 0.8082, 0.8087, 0.811]</td>\n",
       "    </tr>\n",
       "    <tr>\n",
       "      <th>4</th>\n",
       "      <td>K-nearest</td>\n",
       "      <td>0.7810</td>\n",
       "      <td>0.0221</td>\n",
       "      <td>[0.7615, 0.7688, 0.7589, 0.8071, 0.8084]</td>\n",
       "    </tr>\n",
       "    <tr>\n",
       "      <th>0</th>\n",
       "      <td>SVM</td>\n",
       "      <td>0.7660</td>\n",
       "      <td>0.0031</td>\n",
       "      <td>[0.7626, 0.7696, 0.767, 0.7686, 0.762]</td>\n",
       "    </tr>\n",
       "  </tbody>\n",
       "</table>\n",
       "</div>"
      ],
      "text/plain": [
       "     1.Algorithm  2.Mean CV Score  3.Standard Deviation  \\\n",
       "2   RandomForest           0.8871                0.0286   \n",
       "1       Decision           0.8416                0.0296   \n",
       "3  GradientBoost           0.8099                0.0038   \n",
       "4      K-nearest           0.7810                0.0221   \n",
       "0            SVM           0.7660                0.0031   \n",
       "\n",
       "                        4.List of CV Scores  \n",
       "2   [0.866, 0.8676, 0.8593, 0.9132, 0.9296]  \n",
       "1  [0.8183, 0.8165, 0.8189, 0.8679, 0.8863]  \n",
       "3   [0.8053, 0.8165, 0.8082, 0.8087, 0.811]  \n",
       "4  [0.7615, 0.7688, 0.7589, 0.8071, 0.8084]  \n",
       "0    [0.7626, 0.7696, 0.767, 0.7686, 0.762]  "
      ]
     },
     "execution_count": 21,
     "metadata": {},
     "output_type": "execute_result"
    }
   ],
   "source": [
    "# Cross validation\n",
    "from sklearn.model_selection import cross_val_score\n",
    "import numpy as np\n",
    "\n",
    "# Create statistics with the results of the cross-validation of different estimators\n",
    "def model_CV(clfs):\n",
    "    estimated_model={}\n",
    "    model_cv_result = pd.DataFrame()\n",
    "    for model_name, model in clfs.items():\n",
    "        estimated_model.update({model_name:model})\n",
    "        scores = cross_val_score(model, X_train, y_train, cv=5, scoring='accuracy')\n",
    "        model_dict = {}\n",
    "        model_dict['1.Algorithm'] = model_name\n",
    "        model_dict['2.Mean CV Score'] = round(scores.mean(), 4)\n",
    "        model_dict['3.Standard Deviation'] = round(scores.std(), 4)\n",
    "        model_dict['4.List of CV Scores'] = np.round(scores, 4)\n",
    "        model_cv_result = model_cv_result._append(model_dict,ignore_index=True)\n",
    "    return estimated_model, model_cv_result\n",
    "\n",
    "# Run the model_CV(clsf) function\n",
    "estimated_model, model_cv_result = model_CV(clfs)\n",
    "\n",
    "# Display the results of cross_validation statistics in a descending order\n",
    "model_cv_result.sort_values(by=['2.Mean CV Score'],ascending=False)"
   ]
  },
  {
   "cell_type": "markdown",
   "id": "d7492b89-329a-4c9c-9329-5f12c5f7dc61",
   "metadata": {},
   "source": [
    "[<a href=\"#content\">Back to top</a>]"
   ]
  },
  {
   "cell_type": "markdown",
   "id": "b5599466-f510-4a37-9157-7e8d5fa803f4",
   "metadata": {},
   "source": [
    "## Scrutinise for overfitting  <a name=\"7\"></a>"
   ]
  },
  {
   "cell_type": "code",
   "execution_count": 22,
   "id": "46b04777-b22b-46af-a453-566410ee8b3d",
   "metadata": {},
   "outputs": [
    {
     "name": "stdout",
     "output_type": "stream",
     "text": [
      ">1, train: 0.791, test: 0.791\n",
      ">2, train: 0.795, test: 0.796\n",
      ">3, train: 0.797, test: 0.795\n",
      ">4, train: 0.803, test: 0.799\n",
      ">5, train: 0.808, test: 0.802\n",
      ">6, train: 0.814, test: 0.805\n",
      ">7, train: 0.819, test: 0.806\n",
      ">8, train: 0.826, test: 0.805\n",
      ">9, train: 0.837, test: 0.806\n",
      ">10, train: 0.853, test: 0.806\n",
      ">11, train: 0.869, test: 0.804\n",
      ">12, train: 0.891, test: 0.807\n",
      ">13, train: 0.912, test: 0.806\n",
      ">14, train: 0.934, test: 0.805\n",
      ">15, train: 0.955, test: 0.805\n",
      ">16, train: 0.970, test: 0.805\n",
      ">17, train: 0.982, test: 0.802\n",
      ">18, train: 0.990, test: 0.805\n",
      ">19, train: 0.993, test: 0.806\n",
      ">20, train: 0.996, test: 0.802\n",
      ">21, train: 0.998, test: 0.805\n",
      ">22, train: 0.998, test: 0.800\n",
      ">23, train: 0.999, test: 0.805\n",
      ">24, train: 0.999, test: 0.801\n",
      ">25, train: 0.999, test: 0.801\n",
      ">26, train: 0.999, test: 0.804\n",
      ">27, train: 0.999, test: 0.803\n",
      ">28, train: 0.999, test: 0.801\n",
      ">29, train: 0.999, test: 0.804\n",
      ">30, train: 0.999, test: 0.800\n"
     ]
    }
   ],
   "source": [
    "# Evaluate random forest classifier performance on train and test sets with different tree depths\n",
    "train_scores, test_scores = list(), list()\n",
    "# define the tree depths to evaluate\n",
    "values = [i for i in range(1, 31)]\n",
    "# evaluate a decision tree for each depth\n",
    "for i in values:\n",
    " # configure the model\n",
    " model_ = RandomForestClassifier(max_depth=i)\n",
    " # fit model_ on the training dataset\n",
    " model_.fit(X_train, y_train)\n",
    " # evaluate on the train dataset\n",
    " train_yhat = model_.predict(X_train)\n",
    " train_acc = accuracy_score(y_train, train_yhat)\n",
    " train_scores.append(train_acc)\n",
    " # evaluate on the test dataset\n",
    " test_yhat = model_.predict(X_test)\n",
    " test_acc = accuracy_score(y_test, test_yhat)\n",
    " test_scores.append(test_acc)\n",
    " # summarize progress\n",
    " print('>%d, train: %.3f, test: %.3f' % (i, train_acc, test_acc))"
   ]
  },
  {
   "cell_type": "code",
   "execution_count": 23,
   "id": "fe1c7bb9-0d5b-470f-83c7-45ffb1a89db9",
   "metadata": {},
   "outputs": [
    {
     "data": {
      "image/png": "[encoded data removed]",
      "text/plain": [
       "<Figure size 640x480 with 1 Axes>"
      ]
     },
     "metadata": {},
     "output_type": "display_data"
    }
   ],
   "source": [
    "import math\n",
    "import matplotlib.pyplot as plt\n",
    "\n",
    "# Set integers for x axis\n",
    "new_x_ticks = range(math.floor(min(values)), math.ceil(max(values))+1)\n",
    "plt.xticks(new_x_ticks)\n",
    "# Plot of train and test scores vs tree depth\n",
    "plt.plot(values, train_scores, '-o', label='Train')\n",
    "plt.plot(values, test_scores, '-o', label='Test')\n",
    "plt.legend()\n",
    "plt.xlabel(\"max_depth\")\n",
    "plt.ylabel(\"accuravy\")\n",
    "plt.show()"
   ]
  },
  {
   "cell_type": "markdown",
   "id": "27dad855-a1be-430f-95e1-8a0b5a559834",
   "metadata": {},
   "source": [
    "[<a href=\"#content\">Back to top</a>]"
   ]
  },
  {
   "cell_type": "markdown",
   "id": "9a95016f-9613-4164-958b-c017fd1c1803",
   "metadata": {},
   "source": [
    "## Scrutinise for overfitting of the model hyperparameter tuned by Optuna <a name=\"8\"></a>"
   ]
  },
  {
   "cell_type": "code",
   "execution_count": 24,
   "id": "8c344b79-9867-4d18-a63d-b09b3ae9e4bf",
   "metadata": {},
   "outputs": [
    {
     "ename": "SyntaxError",
     "evalue": "invalid syntax (2940982567.py, line 2)",
     "output_type": "error",
     "traceback": [
      "\u001b[1;36m  Cell \u001b[1;32mIn[24], line 2\u001b[1;36m\u001b[0m\n\u001b[1;33m    fr sklearn.svm import SVC\u001b[0m\n\u001b[1;37m       ^\u001b[0m\n\u001b[1;31mSyntaxError\u001b[0m\u001b[1;31m:\u001b[0m invalid syntax\n"
     ]
    }
   ],
   "source": [
    "# Scrutinise for overfitting\n",
    "fr sklearn.svm import SVC\n",
    "from sklearn.model_selection import cross_val_score, train_test_split\n",
    "from sklearn.metrics import accuracy_score\n",
    "\n",
    "# Create an SVM model with hyperparamenters runed by Optuna\n",
    "model = SVC(kernel='rbf',\n",
    "            C=493.2744094205687,\n",
    "            gamma=0.00040591543979010816) \n",
    "\n",
    "# Calculate training accuracy using cross-validation\n",
    "train_scores = cross_val_score(model, X_train, y_train, cv=5, scoring='accuracy')\n",
    "train_accuracy = train_scores.mean()\n",
    "\n",
    "# Train the model on the entire training set\n",
    "model.fit(X_train, y_train)\n",
    "\n",
    "# Predict on the test set\n",
    "y_pred = model.predict(X_test)\n",
    "\n",
    "# Calculate test accuracy\n",
    "test_accuracy = accuracy_score(y_test, y_pred)\n",
    "\n",
    "# Check for overfitting\n",
    "if train_accuracy - test_accuracy > 0.1:  # Example threshold, adjust as needed\n",
    "    print(\"Warning: Potential overfitting detected.\")\n",
    "    print(\"Train accuracy:\", train_accuracy)\n",
    "    print(\"Test accuracy:\", test_accuracy)\n",
    "else:\n",
    "    print(\"No significant overfitting detected.\")\n",
    "    print(\"Train accuracy:\", train_accuracy)\n",
    "    print(\"Test accuracy:\", test_accuracy)"
   ]
  },
  {
   "cell_type": "markdown",
   "id": "6ee4d058-fef3-4432-a6b5-86e028903eab",
   "metadata": {},
   "source": [
    "[<a href=\"#content\">Back to top</a>]"
   ]
  },
  {
   "cell_type": "markdown",
   "id": "5f8c390d-89b9-4b31-8454-9361c7bb7daa",
   "metadata": {},
   "source": [
    "## Final ML model <a name=\"9\"></a>"
   ]
  },
  {
   "cell_type": "code",
   "execution_count": null,
   "id": "8664e866-5ddc-4406-b008-6294155de916",
   "metadata": {},
   "outputs": [],
   "source": [
    "# Instantiate the final model\n",
    "model = SVC(kernel='rbf', C=1, probability=True)"
   ]
  },
  {
   "cell_type": "code",
   "execution_count": null,
   "id": "c69578d6-88be-44ef-a014-8a268d01d00a",
   "metadata": {},
   "outputs": [],
   "source": [
    "# Calculate training accuracy using cross-validation\n",
    "train_scores = cross_val_score(model, X_train, y_train, cv=5, scoring='accuracy')\n",
    "train_accuracy = train_scores.mean()\n",
    "\n",
    "# Train the model on the entire training set\n",
    "model.fit(X_train, y_train)\n",
    "\n",
    "# Predict on the test set\n",
    "y_pred = model.predict(X_test)\n",
    "\n",
    "# Calculate test accuracy\n",
    "test_accuracy = accuracy_score(y_test, y_pred)\n",
    "\n",
    "# Check for overfitting\n",
    "if train_accuracy - test_accuracy > 0.1:  # Example threshold, adjust as needed\n",
    "    print(\"Warning: Potential overfitting detected.\")\n",
    "    print(\"Train accuracy:\", train_accuracy)\n",
    "    print(\"Test accuracy:\", test_accuracy)\n",
    "else:\n",
    "    print(\"No significant overfitting detected.\")\n",
    "    print(\"Train accuracy:\", train_accuracy)\n",
    "    print(\"Test accuracy:\", test_accuracy)"
   ]
  },
  {
   "cell_type": "code",
   "execution_count": null,
   "id": "ad18627a-c795-4713-935c-7ff218512355",
   "metadata": {},
   "outputs": [],
   "source": [
    "from sklearn.model_selection import cross_val_score\n",
    "\n",
    "# Perform 5-fold cross-validation\n",
    "scores = cross_val_score(model, X, y, cv=5, scoring='accuracy')\n",
    "\n",
    "print(\"Cross-validation scores:\", np.round(scores, 3))\n",
    "print(\"Mean cross-validation score:\", np.round(scores.mean(), 3))"
   ]
  },
  {
   "cell_type": "code",
   "execution_count": null,
   "id": "531bc1d0-996e-495c-afe6-76d0525a948d",
   "metadata": {},
   "outputs": [],
   "source": [
    "# ML \n",
    "model.fit(X_train, y_train)\n",
    "y_pred = model.predict(X_test)\n",
    "\n",
    "# Evaluation\n",
    "acc = round(accuracy_score(y_test, y_pred),3)\n",
    "print('Accuracy: ', acc)\n",
    "pre = round(precision_score(y_test, y_pred),3)\n",
    "print('Precision: ', pre) \n",
    "rec = round(recall_score(y_test, y_pred),3)\n",
    "print('Recall: ',rec) \n",
    "f1 = round(f1_score(y_test, y_pred),3)\n",
    "print('F1: ', f1) \n",
    "roc = round(roc_auc_score(y_test, y_pred),3) \n",
    "print('ROC: ', roc)"
   ]
  },
  {
   "cell_type": "markdown",
   "id": "5041a5a9-d433-4f75-bd26-e59340c30396",
   "metadata": {},
   "source": [
    "[<a href=\"#content\">Back to top</a>]"
   ]
  },
  {
   "cell_type": "markdown",
   "id": "1afa85e7-2f6d-4e58-8fbf-1937d95bdd82",
   "metadata": {},
   "source": [
    "## Plot the learning curve and ROC  <a name=\"10\"></a>"
   ]
  },
  {
   "cell_type": "code",
   "execution_count": null,
   "id": "83f75a4d-617a-451f-a293-7d6a5e9927b1",
   "metadata": {
    "scrolled": true
   },
   "outputs": [],
   "source": [
    "from sklearn.model_selection import learning_curve\n",
    "\n",
    "train_sizes, train_scores, test_scores = learning_curve(\n",
    "    model, X_train, y_train, cv=5, scoring='accuracy', n_jobs=-1\n",
    ")\n",
    "\n",
    "train_scores_mean = np.mean(train_scores, axis=1)\n",
    "train_scores_std = np.std(train_scores, axis=1)\n",
    "test_scores_mean = np.mean(test_scores, axis=1)\n",
    "test_scores_std = np.std(test_scores, axis=1)\n",
    "\n",
    "plt.figure(figsize=(10, 6))\n",
    "plt.title(\"Learning Curve\")\n",
    "plt.xlabel(\"Training examples\")\n",
    "plt.ylabel(\"Score\")\n",
    "\n",
    "plt.fill_between(\n",
    "    train_sizes,\n",
    "    train_scores_mean - train_scores_std,\n",
    "    train_scores_mean + train_scores_std,\n",
    "    alpha=0.1,\n",
    "    color=\"r\",\n",
    ")\n",
    "plt.fill_between(\n",
    "    train_sizes,\n",
    "    test_scores_mean - test_scores_std,\n",
    "    test_scores_mean + test_scores_std,\n",
    "    alpha=0.1,\n",
    "    color=\"b\",\n",
    ")\n",
    "plt.plot(train_sizes, train_scores_mean, \"o-\", color=\"r\", label=\"Training score\")\n",
    "plt.plot(train_sizes, test_scores_mean, \"o-\", color=\"b\", label=\"Cross-validation score\")\n",
    "plt.legend(loc=\"best\")\n",
    "plt.show()"
   ]
  },
  {
   "cell_type": "code",
   "execution_count": null,
   "id": "9cecbf8b-d489-4228-9489-bfdd97e92606",
   "metadata": {},
   "outputs": [],
   "source": [
    "from sklearn.metrics import RocCurveDisplay\n",
    "\n",
    "svc_disp = RocCurveDisplay.from_estimator(model, X_test, y_test)\n",
    "plt.show()"
   ]
  },
  {
   "cell_type": "markdown",
   "id": "c85a75d1-7b95-44ed-88ef-c1400d98fb10",
   "metadata": {},
   "source": [
    "[<a href=\"#content\">Back to top</a>]"
   ]
  },
  {
   "cell_type": "markdown",
   "id": "2d07c49e-0ddb-40b5-ae37-843883c0b987",
   "metadata": {},
   "source": [
    "## Confusion matrix, classification report and AUC <a name=\"11\"></a>"
   ]
  },
  {
   "cell_type": "code",
   "execution_count": null,
   "id": "b78f1367-bae1-48f3-9368-3e37cd15324f",
   "metadata": {
    "scrolled": true
   },
   "outputs": [],
   "source": [
    "from sklearn import metrics\n",
    "from sklearn.metrics import confusion_matrix\n",
    "\n",
    "# SVC prediction\n",
    "predicted = model.fit(X_train, y_train).predict(X_test)\n",
    "\n",
    "# Calculate the confusion matrix\n",
    "confusion_matrix = metrics.confusion_matrix(y_test, predicted)\n",
    "\n",
    "# Display confusion matrix\n",
    "cm_display = metrics.ConfusionMatrixDisplay(confusion_matrix = confusion_matrix, display_labels = [False, True])\n",
    "cm_display.plot()\n",
    "plt.show()"
   ]
  },
  {
   "cell_type": "code",
   "execution_count": null,
   "id": "ad914cdb-6320-460d-b436-6b215db62ce9",
   "metadata": {},
   "outputs": [],
   "source": [
    "# Classification report \n",
    "from sklearn.metrics import classification_report\n",
    "\n",
    "# Print the classification report \n",
    "target_names = ['Active (target 1) ', 'Inactive (target 0)']\n",
    "print(classification_report(y_test, predicted, target_names=target_names))"
   ]
  },
  {
   "cell_type": "markdown",
   "id": "e4ff7145-390d-4969-a3d2-3d0c94f250d2",
   "metadata": {},
   "source": [
    "[<a href=\"#content\">Back to top</a>]"
   ]
  }
 ],
 "metadata": {
  "kernelspec": {
   "display_name": "Python 3 (ipykernel)",
   "language": "python",
   "name": "python3"
  },
  "language_info": {
   "codemirror_mode": {
    "name": "ipython",
    "version": 3
   },
   "file_extension": ".py",
   "mimetype": "text/x-python",
   "name": "python",
   "nbconvert_exporter": "python",
   "pygments_lexer": "ipython3",
   "version": "3.12.2"
  }
 },
 "nbformat": 4,
 "nbformat_minor": 5
}
