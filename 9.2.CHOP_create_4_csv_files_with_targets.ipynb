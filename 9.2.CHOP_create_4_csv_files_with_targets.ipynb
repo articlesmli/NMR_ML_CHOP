{
 "cells": [
  {
   "cell_type": "markdown",
   "id": "18f6f4f5-a126-4c4f-950b-8cc6ffa916b6",
   "metadata": {},
   "source": [
    "# Create the csv files containing CID, SMILES notations and labels"
   ]
  },
  {
   "cell_type": "code",
   "execution_count": 1,
   "id": "e72d2861-3f2d-4804-803e-1c60ad3dbaaa",
   "metadata": {},
   "outputs": [
    {
     "name": "stdout",
     "output_type": "stream",
     "text": [
      "Shape of the data frame:  (219165, 10)\n"
     ]
    },
    {
     "data": {
      "text/html": [
       "<div>\n",
       "<style scoped>\n",
       "    .dataframe tbody tr th:only-of-type {\n",
       "        vertical-align: middle;\n",
       "    }\n",
       "\n",
       "    .dataframe tbody tr th {\n",
       "        vertical-align: top;\n",
       "    }\n",
       "\n",
       "    .dataframe thead th {\n",
       "        text-align: right;\n",
       "    }\n",
       "</style>\n",
       "<table border=\"1\" class=\"dataframe\">\n",
       "  <thead>\n",
       "    <tr style=\"text-align: right;\">\n",
       "      <th></th>\n",
       "      <th>PUBCHEM_RESULT_TAG</th>\n",
       "      <th>SID</th>\n",
       "      <th>CID</th>\n",
       "      <th>SMILES</th>\n",
       "      <th>target</th>\n",
       "      <th>PUBCHEM_ACTIVITY_SCORE</th>\n",
       "      <th>PUBCHEM_ACTIVITY_URL</th>\n",
       "      <th>PUBCHEM_ASSAYDATA_COMMENT</th>\n",
       "      <th>Pct Inhibition</th>\n",
       "      <th>Luminescence Value</th>\n",
       "    </tr>\n",
       "  </thead>\n",
       "  <tbody>\n",
       "    <tr>\n",
       "      <th>0</th>\n",
       "      <td>1</td>\n",
       "      <td>17416326</td>\n",
       "      <td>2840784.0</td>\n",
       "      <td>CCCCC(=O)NC1=C(C2=C(S1)C(=C(CC2)C=O)Cl)C(=O)OCC</td>\n",
       "      <td>Active</td>\n",
       "      <td>100</td>\n",
       "      <td>NaN</td>\n",
       "      <td>NaN</td>\n",
       "      <td>116.56</td>\n",
       "      <td>35520</td>\n",
       "    </tr>\n",
       "    <tr>\n",
       "      <th>1</th>\n",
       "      <td>2</td>\n",
       "      <td>14741113</td>\n",
       "      <td>2010180.0</td>\n",
       "      <td>CC1=CC(=CC=C1)CS(=O)(=O)C2=NN=C(O2)[C@H](CC3=C...</td>\n",
       "      <td>Active</td>\n",
       "      <td>99</td>\n",
       "      <td>NaN</td>\n",
       "      <td>NaN</td>\n",
       "      <td>115.34</td>\n",
       "      <td>69880</td>\n",
       "    </tr>\n",
       "    <tr>\n",
       "      <th>2</th>\n",
       "      <td>3</td>\n",
       "      <td>14742004</td>\n",
       "      <td>3696529.0</td>\n",
       "      <td>CC1=CC=C(C=C1)C(=O)C2=C(OC3=C2C(=O)C(=O)C4=CC=...</td>\n",
       "      <td>Active</td>\n",
       "      <td>99</td>\n",
       "      <td>NaN</td>\n",
       "      <td>NaN</td>\n",
       "      <td>115.21</td>\n",
       "      <td>39160</td>\n",
       "    </tr>\n",
       "    <tr>\n",
       "      <th>3</th>\n",
       "      <td>4</td>\n",
       "      <td>863128</td>\n",
       "      <td>664366.0</td>\n",
       "      <td>CC[C@@H](C)[C@@H](C1=NN=C(O1)S(=O)(=O)CC2=C(C=...</td>\n",
       "      <td>Active</td>\n",
       "      <td>99</td>\n",
       "      <td>NaN</td>\n",
       "      <td>NaN</td>\n",
       "      <td>114.88</td>\n",
       "      <td>144040</td>\n",
       "    </tr>\n",
       "    <tr>\n",
       "      <th>4</th>\n",
       "      <td>5</td>\n",
       "      <td>17409458</td>\n",
       "      <td>6418635.0</td>\n",
       "      <td>C1=CC=C(C=C1)C2=NC(=C(N=N2)C(F)(F)F)SC3=CC=C(C...</td>\n",
       "      <td>Active</td>\n",
       "      <td>98</td>\n",
       "      <td>NaN</td>\n",
       "      <td>NaN</td>\n",
       "      <td>114.24</td>\n",
       "      <td>17400</td>\n",
       "    </tr>\n",
       "  </tbody>\n",
       "</table>\n",
       "</div>"
      ],
      "text/plain": [
       "   PUBCHEM_RESULT_TAG       SID        CID  \\\n",
       "0                   1  17416326  2840784.0   \n",
       "1                   2  14741113  2010180.0   \n",
       "2                   3  14742004  3696529.0   \n",
       "3                   4    863128   664366.0   \n",
       "4                   5  17409458  6418635.0   \n",
       "\n",
       "                                              SMILES  target  \\\n",
       "0    CCCCC(=O)NC1=C(C2=C(S1)C(=C(CC2)C=O)Cl)C(=O)OCC  Active   \n",
       "1  CC1=CC(=CC=C1)CS(=O)(=O)C2=NN=C(O2)[C@H](CC3=C...  Active   \n",
       "2  CC1=CC=C(C=C1)C(=O)C2=C(OC3=C2C(=O)C(=O)C4=CC=...  Active   \n",
       "3  CC[C@@H](C)[C@@H](C1=NN=C(O1)S(=O)(=O)CC2=C(C=...  Active   \n",
       "4  C1=CC=C(C=C1)C2=NC(=C(N=N2)C(F)(F)F)SC3=CC=C(C...  Active   \n",
       "\n",
       "   PUBCHEM_ACTIVITY_SCORE  PUBCHEM_ACTIVITY_URL  PUBCHEM_ASSAYDATA_COMMENT  \\\n",
       "0                     100                   NaN                        NaN   \n",
       "1                      99                   NaN                        NaN   \n",
       "2                      99                   NaN                        NaN   \n",
       "3                      99                   NaN                        NaN   \n",
       "4                      98                   NaN                        NaN   \n",
       "\n",
       "  Pct Inhibition  Luminescence Value  \n",
       "0         116.56               35520  \n",
       "1         115.34               69880  \n",
       "2         115.21               39160  \n",
       "3         114.88              144040  \n",
       "4         114.24               17400  "
      ]
     },
     "execution_count": 1,
     "metadata": {},
     "output_type": "execute_result"
    }
   ],
   "source": [
    "import pandas as pd \n",
    "\n",
    "# load the BioAssay PubChem AID 2732 dataset\n",
    "# https://pubchem.ncbi.nlm.nih.gov/bioassay/2732\n",
    "df = pd.read_csv('input/pubchem_CHOP_bioassay.csv', sep=';')\n",
    "\n",
    "# To avoid truncation of some columns during data frame display\n",
    "pd.set_option('display.max_columns', None) \n",
    "\n",
    "# Display the data frame\n",
    "print('Shape of the data frame: ', df.shape)\n",
    "\n",
    "df.head()"
   ]
  },
  {
   "cell_type": "code",
   "execution_count": 2,
   "id": "f1f3eb32-ed9f-41c1-9af1-1f221c4a7e48",
   "metadata": {},
   "outputs": [
    {
     "name": "stdout",
     "output_type": "stream",
     "text": [
      "<class 'pandas.core.frame.DataFrame'>\n",
      "RangeIndex: 219165 entries, 0 to 219164\n",
      "Data columns (total 10 columns):\n",
      " #   Column                     Non-Null Count   Dtype  \n",
      "---  ------                     --------------   -----  \n",
      " 0   PUBCHEM_RESULT_TAG         219165 non-null  int64  \n",
      " 1   SID                        219165 non-null  int64  \n",
      " 2   CID                        219164 non-null  float64\n",
      " 3   SMILES                     219164 non-null  object \n",
      " 4   target                     219165 non-null  object \n",
      " 5   PUBCHEM_ACTIVITY_SCORE     219165 non-null  int64  \n",
      " 6   PUBCHEM_ACTIVITY_URL       0 non-null       float64\n",
      " 7   PUBCHEM_ASSAYDATA_COMMENT  0 non-null       float64\n",
      " 8   Pct Inhibition             219165 non-null  object \n",
      " 9   Luminescence Value         219165 non-null  int64  \n",
      "dtypes: float64(3), int64(4), object(3)\n",
      "memory usage: 16.7+ MB\n"
     ]
    }
   ],
   "source": [
    "df.info()"
   ]
  },
  {
   "cell_type": "code",
   "execution_count": 3,
   "id": "dd9b495c-dd4b-4c61-8755-386c0f7cacd1",
   "metadata": {},
   "outputs": [
    {
     "data": {
      "text/plain": [
       "(219165, 10)"
      ]
     },
     "execution_count": 3,
     "metadata": {},
     "output_type": "execute_result"
    }
   ],
   "source": [
    "# Remove duplicates in general\n",
    "df.drop_duplicates()\n",
    "df.shape  # 359,035 means no duplicates"
   ]
  },
  {
   "cell_type": "code",
   "execution_count": 4,
   "id": "64c2bfe8-8d09-4148-aeef-f1615c1d950d",
   "metadata": {},
   "outputs": [
    {
     "data": {
      "text/plain": [
       "(219164, 10)"
      ]
     },
     "execution_count": 4,
     "metadata": {},
     "output_type": "execute_result"
    }
   ],
   "source": [
    "# Remove the compounds missing CID-s\n",
    "df = df[df['CID'].notna()]\n",
    "df.shape"
   ]
  },
  {
   "cell_type": "code",
   "execution_count": 5,
   "id": "e67c3e3b-171c-4b5d-a3f0-be00cbbeb8d2",
   "metadata": {},
   "outputs": [
    {
     "name": "stdout",
     "output_type": "stream",
     "text": [
      "<class 'pandas.core.frame.DataFrame'>\n",
      "Index: 219164 entries, 0 to 219164\n",
      "Data columns (total 10 columns):\n",
      " #   Column                     Non-Null Count   Dtype  \n",
      "---  ------                     --------------   -----  \n",
      " 0   PUBCHEM_RESULT_TAG         219164 non-null  int64  \n",
      " 1   SID                        219164 non-null  int64  \n",
      " 2   CID                        219164 non-null  int64  \n",
      " 3   SMILES                     219164 non-null  object \n",
      " 4   target                     219164 non-null  object \n",
      " 5   PUBCHEM_ACTIVITY_SCORE     219164 non-null  int64  \n",
      " 6   PUBCHEM_ACTIVITY_URL       0 non-null       float64\n",
      " 7   PUBCHEM_ASSAYDATA_COMMENT  0 non-null       float64\n",
      " 8   Pct Inhibition             219164 non-null  object \n",
      " 9   Luminescence Value         219164 non-null  int64  \n",
      "dtypes: float64(2), int64(5), object(3)\n",
      "memory usage: 18.4+ MB\n"
     ]
    }
   ],
   "source": [
    "# Turn CID float data type into integer\n",
    "df = df.copy()\n",
    "df['CID'] = df['CID'].astype('int64') \n",
    "df.info()"
   ]
  },
  {
   "cell_type": "code",
   "execution_count": 6,
   "id": "1d914d30-4c83-4174-9d49-9580f994eb99",
   "metadata": {},
   "outputs": [
    {
     "data": {
      "text/plain": [
       "(218176, 10)"
      ]
     },
     "execution_count": 6,
     "metadata": {},
     "output_type": "execute_result"
    }
   ],
   "source": [
    "# Remove duplicates in CIDs \n",
    "df = df.drop_duplicates(subset=['CID'], keep=False) \n",
    "df.shape  # 6,446 are duplicates "
   ]
  },
  {
   "cell_type": "code",
   "execution_count": 7,
   "id": "4e2e5f3b",
   "metadata": {},
   "outputs": [
    {
     "data": {
      "text/html": [
       "<div>\n",
       "<style scoped>\n",
       "    .dataframe tbody tr th:only-of-type {\n",
       "        vertical-align: middle;\n",
       "    }\n",
       "\n",
       "    .dataframe tbody tr th {\n",
       "        vertical-align: top;\n",
       "    }\n",
       "\n",
       "    .dataframe thead th {\n",
       "        text-align: right;\n",
       "    }\n",
       "</style>\n",
       "<table border=\"1\" class=\"dataframe\">\n",
       "  <thead>\n",
       "    <tr style=\"text-align: right;\">\n",
       "      <th></th>\n",
       "      <th>CID</th>\n",
       "      <th>SMILES</th>\n",
       "      <th>target</th>\n",
       "    </tr>\n",
       "  </thead>\n",
       "  <tbody>\n",
       "    <tr>\n",
       "      <th>0</th>\n",
       "      <td>2840784</td>\n",
       "      <td>CCCCC(=O)NC1=C(C2=C(S1)C(=C(CC2)C=O)Cl)C(=O)OCC</td>\n",
       "      <td>Active</td>\n",
       "    </tr>\n",
       "    <tr>\n",
       "      <th>1</th>\n",
       "      <td>2010180</td>\n",
       "      <td>CC1=CC(=CC=C1)CS(=O)(=O)C2=NN=C(O2)[C@H](CC3=C...</td>\n",
       "      <td>Active</td>\n",
       "    </tr>\n",
       "    <tr>\n",
       "      <th>2</th>\n",
       "      <td>3696529</td>\n",
       "      <td>CC1=CC=C(C=C1)C(=O)C2=C(OC3=C2C(=O)C(=O)C4=CC=...</td>\n",
       "      <td>Active</td>\n",
       "    </tr>\n",
       "    <tr>\n",
       "      <th>3</th>\n",
       "      <td>664366</td>\n",
       "      <td>CC[C@@H](C)[C@@H](C1=NN=C(O1)S(=O)(=O)CC2=C(C=...</td>\n",
       "      <td>Active</td>\n",
       "    </tr>\n",
       "    <tr>\n",
       "      <th>4</th>\n",
       "      <td>6418635</td>\n",
       "      <td>C1=CC=C(C=C1)C2=NC(=C(N=N2)C(F)(F)F)SC3=CC=C(C...</td>\n",
       "      <td>Active</td>\n",
       "    </tr>\n",
       "  </tbody>\n",
       "</table>\n",
       "</div>"
      ],
      "text/plain": [
       "       CID                                             SMILES  target\n",
       "0  2840784    CCCCC(=O)NC1=C(C2=C(S1)C(=C(CC2)C=O)Cl)C(=O)OCC  Active\n",
       "1  2010180  CC1=CC(=CC=C1)CS(=O)(=O)C2=NN=C(O2)[C@H](CC3=C...  Active\n",
       "2  3696529  CC1=CC=C(C=C1)C(=O)C2=C(OC3=C2C(=O)C(=O)C4=CC=...  Active\n",
       "3   664366  CC[C@@H](C)[C@@H](C1=NN=C(O1)S(=O)(=O)CC2=C(C=...  Active\n",
       "4  6418635  C1=CC=C(C=C1)C2=NC(=C(N=N2)C(F)(F)F)SC3=CC=C(C...  Active"
      ]
     },
     "execution_count": 7,
     "metadata": {},
     "output_type": "execute_result"
    }
   ],
   "source": [
    "df = df [['CID', 'SMILES', 'target']]\n",
    "df.head()"
   ]
  },
  {
   "cell_type": "code",
   "execution_count": 8,
   "id": "4ee49221",
   "metadata": {},
   "outputs": [
    {
     "data": {
      "text/plain": [
       "target\n",
       "Inactive    209952\n",
       "Active        8224\n",
       "Name: count, dtype: int64"
      ]
     },
     "execution_count": 8,
     "metadata": {},
     "output_type": "execute_result"
    }
   ],
   "source": [
    "# Counting of values in column PUBCHEM_ACTIVITY_OUTCOME\n",
    "df['target'].value_counts()"
   ]
  },
  {
   "cell_type": "code",
   "execution_count": 9,
   "id": "55d81376",
   "metadata": {},
   "outputs": [
    {
     "data": {
      "text/plain": [
       "array([1, 0], dtype=int64)"
      ]
     },
     "execution_count": 9,
     "metadata": {},
     "output_type": "execute_result"
    }
   ],
   "source": [
    "# Set the binary targets to \"1\" for an active inhibitors and \"0\" for others \n",
    "df = df.copy()\n",
    "\n",
    "# Create a dictionary\n",
    "target = {'Active' : 1,\n",
    "          'Inactive' : 0}\n",
    "\n",
    "# Replace the names with binary values set up in the dictionary targets\n",
    "df.target = [target[item] for item in df.target]\n",
    "\n",
    "\n",
    "# Check how many unique values there are in the 'target' column\n",
    "df['target'].unique()"
   ]
  },
  {
   "cell_type": "code",
   "execution_count": 10,
   "id": "ba4be324-5bdc-4808-a998-49867e045afd",
   "metadata": {},
   "outputs": [
    {
     "name": "stdout",
     "output_type": "stream",
     "text": [
      "Shape of the data frame:  (218176, 3)\n"
     ]
    },
    {
     "data": {
      "text/html": [
       "<div>\n",
       "<style scoped>\n",
       "    .dataframe tbody tr th:only-of-type {\n",
       "        vertical-align: middle;\n",
       "    }\n",
       "\n",
       "    .dataframe tbody tr th {\n",
       "        vertical-align: top;\n",
       "    }\n",
       "\n",
       "    .dataframe thead th {\n",
       "        text-align: right;\n",
       "    }\n",
       "</style>\n",
       "<table border=\"1\" class=\"dataframe\">\n",
       "  <thead>\n",
       "    <tr style=\"text-align: right;\">\n",
       "      <th></th>\n",
       "      <th>CID</th>\n",
       "      <th>SMILES</th>\n",
       "      <th>target</th>\n",
       "    </tr>\n",
       "  </thead>\n",
       "  <tbody>\n",
       "    <tr>\n",
       "      <th>0</th>\n",
       "      <td>2553149</td>\n",
       "      <td>CC1=CC(=NN1C2=CC=C(C=C2)C(=O)OCC(=O)C3=C(N(C(=...</td>\n",
       "      <td>0</td>\n",
       "    </tr>\n",
       "    <tr>\n",
       "      <th>1</th>\n",
       "      <td>1842208</td>\n",
       "      <td>COC1=CC=CC=C1N2C(=C(C3=CC=CC=C3C2=O)C=NCC4=CC=...</td>\n",
       "      <td>0</td>\n",
       "    </tr>\n",
       "    <tr>\n",
       "      <th>2</th>\n",
       "      <td>2081879</td>\n",
       "      <td>CC1=CC(=NO1)NC(=O)CSC2=NC3=CC=CC=C3C(=O)N2C4=C...</td>\n",
       "      <td>0</td>\n",
       "    </tr>\n",
       "    <tr>\n",
       "      <th>3</th>\n",
       "      <td>1072534</td>\n",
       "      <td>CCOC(=O)C1=C(C2=C(S1)N=C(C3=C2CC(N(C3)C)(C)C)N...</td>\n",
       "      <td>0</td>\n",
       "    </tr>\n",
       "    <tr>\n",
       "      <th>4</th>\n",
       "      <td>1728284</td>\n",
       "      <td>CC1=CC=C(C=C1)C(=O)NC(=S)NNC(=O)COC2=CC=CC=C2C</td>\n",
       "      <td>1</td>\n",
       "    </tr>\n",
       "  </tbody>\n",
       "</table>\n",
       "</div>"
      ],
      "text/plain": [
       "       CID                                             SMILES  target\n",
       "0  2553149  CC1=CC(=NN1C2=CC=C(C=C2)C(=O)OCC(=O)C3=C(N(C(=...       0\n",
       "1  1842208  COC1=CC=CC=C1N2C(=C(C3=CC=CC=C3C2=O)C=NCC4=CC=...       0\n",
       "2  2081879  CC1=CC(=NO1)NC(=O)CSC2=NC3=CC=CC=C3C(=O)N2C4=C...       0\n",
       "3  1072534  CCOC(=O)C1=C(C2=C(S1)N=C(C3=C2CC(N(C3)C)(C)C)N...       0\n",
       "4  1728284     CC1=CC=C(C=C1)C(=O)NC(=S)NNC(=O)COC2=CC=CC=C2C       1"
      ]
     },
     "execution_count": 10,
     "metadata": {},
     "output_type": "execute_result"
    }
   ],
   "source": [
    "# Shuffle the resulting data sets\n",
    "df = df.sample(\n",
    "    frac = 1,        # Return entire dataframe\n",
    "    random_state=1   # Make result reproducible\n",
    "    ).reset_index(drop=True)\n",
    "\n",
    "# Display the data frame\n",
    "print('Shape of the data frame: ', df.shape)\n",
    "\n",
    "df.head()"
   ]
  },
  {
   "cell_type": "code",
   "execution_count": 11,
   "id": "541b6fe9-7695-4193-b09f-69bc0aab01e0",
   "metadata": {},
   "outputs": [],
   "source": [
    "df.to_csv('CHOP_full_dataset_for_CID_list.csv')"
   ]
  },
  {
   "cell_type": "markdown",
   "id": "44e8593b-2d8f-46b3-ba48-3957df4216c2",
   "metadata": {},
   "source": [
    "[<a href=\"#content\">Back to top</a>]"
   ]
  },
  {
   "cell_type": "markdown",
   "id": "7a0c3dae-e896-4e89-9662-02e16c035578",
   "metadata": {},
   "source": [
    "## Create csv files <a name=\"3\"></a>"
   ]
  },
  {
   "cell_type": "code",
   "execution_count": 12,
   "id": "87179f25-5f20-45d4-a631-0043d05deec6",
   "metadata": {},
   "outputs": [
    {
     "name": "stdout",
     "output_type": "stream",
     "text": [
      "(54899, 4)\n"
     ]
    },
    {
     "data": {
      "text/html": [
       "<div>\n",
       "<style scoped>\n",
       "    .dataframe tbody tr th:only-of-type {\n",
       "        vertical-align: middle;\n",
       "    }\n",
       "\n",
       "    .dataframe tbody tr th {\n",
       "        vertical-align: top;\n",
       "    }\n",
       "\n",
       "    .dataframe thead th {\n",
       "        text-align: right;\n",
       "    }\n",
       "</style>\n",
       "<table border=\"1\" class=\"dataframe\">\n",
       "  <thead>\n",
       "    <tr style=\"text-align: right;\">\n",
       "      <th></th>\n",
       "      <th>CID</th>\n",
       "      <th>SMILES</th>\n",
       "      <th>target</th>\n",
       "      <th>UPAC</th>\n",
       "    </tr>\n",
       "  </thead>\n",
       "  <tbody>\n",
       "    <tr>\n",
       "      <th>0</th>\n",
       "      <td>2553149</td>\n",
       "      <td>CC1=CC(=NN1C2=CC=C(C=C2)C(=O)OCC(=O)C3=C(N(C(=...</td>\n",
       "      <td>0</td>\n",
       "      <td>[2-[1-(2-methoxyethyl)-2,5-dimethylpyrrol-3-yl...</td>\n",
       "    </tr>\n",
       "    <tr>\n",
       "      <th>1</th>\n",
       "      <td>1728284</td>\n",
       "      <td>CC1=CC=C(C=C1)C(=O)NC(=S)NNC(=O)COC2=CC=CC=C2C</td>\n",
       "      <td>1</td>\n",
       "      <td>4-methyl-N-[[[2-(2-methylphenoxy)acetyl]amino]...</td>\n",
       "    </tr>\n",
       "    <tr>\n",
       "      <th>2</th>\n",
       "      <td>2878770</td>\n",
       "      <td>COC1=CC=C(C=C1)C2=CC(=O)CC(C2)C3=CC=CC=C3</td>\n",
       "      <td>0</td>\n",
       "      <td>3-(4-methoxyphenyl)-5-phenylcyclohex-2-en-1-one</td>\n",
       "    </tr>\n",
       "    <tr>\n",
       "      <th>3</th>\n",
       "      <td>1823283</td>\n",
       "      <td>C1=CC=C2C(=C1)C(=O)/C(=C/C3=CC=CS3)/S2</td>\n",
       "      <td>0</td>\n",
       "      <td>(2Z)-2-(thiophen-2-ylmethylidene)-1-benzothiop...</td>\n",
       "    </tr>\n",
       "    <tr>\n",
       "      <th>4</th>\n",
       "      <td>1438309</td>\n",
       "      <td>CC1=CC=C(C=C1)C(=O)C2CCN(CC2)CC(=O)NC3=NC(=CS3)C</td>\n",
       "      <td>0</td>\n",
       "      <td>2-[4-(4-methylbenzoyl)piperidin-1-yl]-N-(4-met...</td>\n",
       "    </tr>\n",
       "  </tbody>\n",
       "</table>\n",
       "</div>"
      ],
      "text/plain": [
       "       CID                                             SMILES  target  \\\n",
       "0  2553149  CC1=CC(=NN1C2=CC=C(C=C2)C(=O)OCC(=O)C3=C(N(C(=...       0   \n",
       "1  1728284     CC1=CC=C(C=C1)C(=O)NC(=S)NNC(=O)COC2=CC=CC=C2C       1   \n",
       "2  2878770          COC1=CC=C(C=C1)C2=CC(=O)CC(C2)C3=CC=CC=C3       0   \n",
       "3  1823283             C1=CC=C2C(=C1)C(=O)/C(=C/C3=CC=CS3)/S2       0   \n",
       "4  1438309   CC1=CC=C(C=C1)C(=O)C2CCN(CC2)CC(=O)NC3=NC(=CS3)C       0   \n",
       "\n",
       "                                                UPAC  \n",
       "0  [2-[1-(2-methoxyethyl)-2,5-dimethylpyrrol-3-yl...  \n",
       "1  4-methyl-N-[[[2-(2-methylphenoxy)acetyl]amino]...  \n",
       "2    3-(4-methoxyphenyl)-5-phenylcyclohex-2-en-1-one  \n",
       "3  (2Z)-2-(thiophen-2-ylmethylidene)-1-benzothiop...  \n",
       "4  2-[4-(4-methylbenzoyl)piperidin-1-yl]-N-(4-met...  "
      ]
     },
     "execution_count": 12,
     "metadata": {},
     "output_type": "execute_result"
    }
   ],
   "source": [
    "# First part of df\n",
    "df_1 = pd.read_csv('df1.csv', index_col=[0])\n",
    "df1= pd.merge(df, df_1, on=['CID', 'SMILES'])\n",
    "print(df1.shape)\n",
    "df1.head()"
   ]
  },
  {
   "cell_type": "code",
   "execution_count": 13,
   "id": "be0e49d0-0316-481a-bec9-f6d4e0a847f8",
   "metadata": {},
   "outputs": [
    {
     "name": "stdout",
     "output_type": "stream",
     "text": [
      "(54899, 2)\n"
     ]
    },
    {
     "data": {
      "text/html": [
       "<div>\n",
       "<style scoped>\n",
       "    .dataframe tbody tr th:only-of-type {\n",
       "        vertical-align: middle;\n",
       "    }\n",
       "\n",
       "    .dataframe tbody tr th {\n",
       "        vertical-align: top;\n",
       "    }\n",
       "\n",
       "    .dataframe thead th {\n",
       "        text-align: right;\n",
       "    }\n",
       "</style>\n",
       "<table border=\"1\" class=\"dataframe\">\n",
       "  <thead>\n",
       "    <tr style=\"text-align: right;\">\n",
       "      <th></th>\n",
       "      <th>UPAC</th>\n",
       "      <th>target</th>\n",
       "    </tr>\n",
       "  </thead>\n",
       "  <tbody>\n",
       "    <tr>\n",
       "      <th>0</th>\n",
       "      <td>[2-[1-(2-methoxyethyl)-2,5-dimethylpyrrol-3-yl...</td>\n",
       "      <td>0</td>\n",
       "    </tr>\n",
       "    <tr>\n",
       "      <th>1</th>\n",
       "      <td>4-methyl-N-[[[2-(2-methylphenoxy)acetyl]amino]...</td>\n",
       "      <td>1</td>\n",
       "    </tr>\n",
       "    <tr>\n",
       "      <th>2</th>\n",
       "      <td>3-(4-methoxyphenyl)-5-phenylcyclohex-2-en-1-one</td>\n",
       "      <td>0</td>\n",
       "    </tr>\n",
       "    <tr>\n",
       "      <th>3</th>\n",
       "      <td>(2Z)-2-(thiophen-2-ylmethylidene)-1-benzothiop...</td>\n",
       "      <td>0</td>\n",
       "    </tr>\n",
       "    <tr>\n",
       "      <th>4</th>\n",
       "      <td>2-[4-(4-methylbenzoyl)piperidin-1-yl]-N-(4-met...</td>\n",
       "      <td>0</td>\n",
       "    </tr>\n",
       "  </tbody>\n",
       "</table>\n",
       "</div>"
      ],
      "text/plain": [
       "                                                UPAC  target\n",
       "0  [2-[1-(2-methoxyethyl)-2,5-dimethylpyrrol-3-yl...       0\n",
       "1  4-methyl-N-[[[2-(2-methylphenoxy)acetyl]amino]...       1\n",
       "2    3-(4-methoxyphenyl)-5-phenylcyclohex-2-en-1-one       0\n",
       "3  (2Z)-2-(thiophen-2-ylmethylidene)-1-benzothiop...       0\n",
       "4  2-[4-(4-methylbenzoyl)piperidin-1-yl]-N-(4-met...       0"
      ]
     },
     "execution_count": 13,
     "metadata": {},
     "output_type": "execute_result"
    }
   ],
   "source": [
    "# Remain only the necessary columns\n",
    "df1 = df1[['UPAC', 'target']] \n",
    "print(df1.shape)\n",
    "df1.head()"
   ]
  },
  {
   "cell_type": "code",
   "execution_count": 14,
   "id": "d1930ccb-a11e-4890-bce1-8b5026a606fd",
   "metadata": {},
   "outputs": [],
   "source": [
    "# Generate the csv file\n",
    "df1.to_csv('df1_targets.csv')"
   ]
  },
  {
   "cell_type": "code",
   "execution_count": 15,
   "id": "e75b7154-efc0-451a-8d75-aec5402c2f6a",
   "metadata": {},
   "outputs": [
    {
     "name": "stdout",
     "output_type": "stream",
     "text": [
      "(54821, 4)\n"
     ]
    },
    {
     "data": {
      "text/html": [
       "<div>\n",
       "<style scoped>\n",
       "    .dataframe tbody tr th:only-of-type {\n",
       "        vertical-align: middle;\n",
       "    }\n",
       "\n",
       "    .dataframe tbody tr th {\n",
       "        vertical-align: top;\n",
       "    }\n",
       "\n",
       "    .dataframe thead th {\n",
       "        text-align: right;\n",
       "    }\n",
       "</style>\n",
       "<table border=\"1\" class=\"dataframe\">\n",
       "  <thead>\n",
       "    <tr style=\"text-align: right;\">\n",
       "      <th></th>\n",
       "      <th>CID</th>\n",
       "      <th>SMILES</th>\n",
       "      <th>target</th>\n",
       "      <th>UPAC</th>\n",
       "    </tr>\n",
       "  </thead>\n",
       "  <tbody>\n",
       "    <tr>\n",
       "      <th>0</th>\n",
       "      <td>1842208</td>\n",
       "      <td>COC1=CC=CC=C1N2C(=C(C3=CC=CC=C3C2=O)C=NCC4=CC=...</td>\n",
       "      <td>0</td>\n",
       "      <td>3-hydroxy-2-(2-methoxyphenyl)-4-(pyridin-2-ylm...</td>\n",
       "    </tr>\n",
       "    <tr>\n",
       "      <th>1</th>\n",
       "      <td>2081879</td>\n",
       "      <td>CC1=CC(=NO1)NC(=O)CSC2=NC3=CC=CC=C3C(=O)N2C4=C...</td>\n",
       "      <td>0</td>\n",
       "      <td>2-[3-(3-chloro-4-methoxyphenyl)-4-oxoquinazoli...</td>\n",
       "    </tr>\n",
       "    <tr>\n",
       "      <th>2</th>\n",
       "      <td>5007365</td>\n",
       "      <td>CC1=C(C(=O)N=C2C=CC=CC2=N1)NNC3=CC=C(C=C3)[N+]...</td>\n",
       "      <td>0</td>\n",
       "      <td>4-methyl-3-[2-(4-nitrophenyl)hydrazinyl]-1,5-b...</td>\n",
       "    </tr>\n",
       "    <tr>\n",
       "      <th>3</th>\n",
       "      <td>5523524</td>\n",
       "      <td>COC1=CC(=C(C=C1)C(=O)N/N=C\\2/N(C(=O)CS2)CC3=CC...</td>\n",
       "      <td>0</td>\n",
       "      <td>N-[(Z)-[3-(1,3-benzodioxol-5-ylmethyl)-4-oxo-1...</td>\n",
       "    </tr>\n",
       "    <tr>\n",
       "      <th>4</th>\n",
       "      <td>801109</td>\n",
       "      <td>C1CCN(CC1)C2=NC=NC3=C2C=NN3CC4=CC=CC=C4</td>\n",
       "      <td>0</td>\n",
       "      <td>1-benzyl-4-piperidin-1-ylpyrazolo[3,4-d]pyrimi...</td>\n",
       "    </tr>\n",
       "  </tbody>\n",
       "</table>\n",
       "</div>"
      ],
      "text/plain": [
       "       CID                                             SMILES  target  \\\n",
       "0  1842208  COC1=CC=CC=C1N2C(=C(C3=CC=CC=C3C2=O)C=NCC4=CC=...       0   \n",
       "1  2081879  CC1=CC(=NO1)NC(=O)CSC2=NC3=CC=CC=C3C(=O)N2C4=C...       0   \n",
       "2  5007365  CC1=C(C(=O)N=C2C=CC=CC2=N1)NNC3=CC=C(C=C3)[N+]...       0   \n",
       "3  5523524  COC1=CC(=C(C=C1)C(=O)N/N=C\\2/N(C(=O)CS2)CC3=CC...       0   \n",
       "4   801109            C1CCN(CC1)C2=NC=NC3=C2C=NN3CC4=CC=CC=C4       0   \n",
       "\n",
       "                                                UPAC  \n",
       "0  3-hydroxy-2-(2-methoxyphenyl)-4-(pyridin-2-ylm...  \n",
       "1  2-[3-(3-chloro-4-methoxyphenyl)-4-oxoquinazoli...  \n",
       "2  4-methyl-3-[2-(4-nitrophenyl)hydrazinyl]-1,5-b...  \n",
       "3  N-[(Z)-[3-(1,3-benzodioxol-5-ylmethyl)-4-oxo-1...  \n",
       "4  1-benzyl-4-piperidin-1-ylpyrazolo[3,4-d]pyrimi...  "
      ]
     },
     "execution_count": 15,
     "metadata": {},
     "output_type": "execute_result"
    }
   ],
   "source": [
    "# First part of df\n",
    "df_2 = pd.read_csv('df2.csv', index_col=[0])\n",
    "df2= pd.merge(df, df_2, on=['CID', 'SMILES'])\n",
    "print(df2.shape)\n",
    "df2.head()"
   ]
  },
  {
   "cell_type": "code",
   "execution_count": 16,
   "id": "5e507c66-77a0-4449-8e61-8ef0f7f722f6",
   "metadata": {},
   "outputs": [
    {
     "name": "stdout",
     "output_type": "stream",
     "text": [
      "(54821, 2)\n"
     ]
    },
    {
     "data": {
      "text/html": [
       "<div>\n",
       "<style scoped>\n",
       "    .dataframe tbody tr th:only-of-type {\n",
       "        vertical-align: middle;\n",
       "    }\n",
       "\n",
       "    .dataframe tbody tr th {\n",
       "        vertical-align: top;\n",
       "    }\n",
       "\n",
       "    .dataframe thead th {\n",
       "        text-align: right;\n",
       "    }\n",
       "</style>\n",
       "<table border=\"1\" class=\"dataframe\">\n",
       "  <thead>\n",
       "    <tr style=\"text-align: right;\">\n",
       "      <th></th>\n",
       "      <th>UPAC</th>\n",
       "      <th>target</th>\n",
       "    </tr>\n",
       "  </thead>\n",
       "  <tbody>\n",
       "    <tr>\n",
       "      <th>0</th>\n",
       "      <td>3-hydroxy-2-(2-methoxyphenyl)-4-(pyridin-2-ylm...</td>\n",
       "      <td>0</td>\n",
       "    </tr>\n",
       "    <tr>\n",
       "      <th>1</th>\n",
       "      <td>2-[3-(3-chloro-4-methoxyphenyl)-4-oxoquinazoli...</td>\n",
       "      <td>0</td>\n",
       "    </tr>\n",
       "    <tr>\n",
       "      <th>2</th>\n",
       "      <td>4-methyl-3-[2-(4-nitrophenyl)hydrazinyl]-1,5-b...</td>\n",
       "      <td>0</td>\n",
       "    </tr>\n",
       "    <tr>\n",
       "      <th>3</th>\n",
       "      <td>N-[(Z)-[3-(1,3-benzodioxol-5-ylmethyl)-4-oxo-1...</td>\n",
       "      <td>0</td>\n",
       "    </tr>\n",
       "    <tr>\n",
       "      <th>4</th>\n",
       "      <td>1-benzyl-4-piperidin-1-ylpyrazolo[3,4-d]pyrimi...</td>\n",
       "      <td>0</td>\n",
       "    </tr>\n",
       "  </tbody>\n",
       "</table>\n",
       "</div>"
      ],
      "text/plain": [
       "                                                UPAC  target\n",
       "0  3-hydroxy-2-(2-methoxyphenyl)-4-(pyridin-2-ylm...       0\n",
       "1  2-[3-(3-chloro-4-methoxyphenyl)-4-oxoquinazoli...       0\n",
       "2  4-methyl-3-[2-(4-nitrophenyl)hydrazinyl]-1,5-b...       0\n",
       "3  N-[(Z)-[3-(1,3-benzodioxol-5-ylmethyl)-4-oxo-1...       0\n",
       "4  1-benzyl-4-piperidin-1-ylpyrazolo[3,4-d]pyrimi...       0"
      ]
     },
     "execution_count": 16,
     "metadata": {},
     "output_type": "execute_result"
    }
   ],
   "source": [
    "# Remain only the necessary columns\n",
    "df2 = df2[['UPAC', 'target']] \n",
    "print(df2.shape)\n",
    "df2.head()"
   ]
  },
  {
   "cell_type": "code",
   "execution_count": 17,
   "id": "2499a734-9a77-404c-bea2-a5a4a66f6c9e",
   "metadata": {},
   "outputs": [],
   "source": [
    "# Generate the csv file\n",
    "df2.to_csv('df2_targets.csv')"
   ]
  },
  {
   "cell_type": "code",
   "execution_count": 18,
   "id": "a4bce703-c6c6-4b71-b00a-d230009505ec",
   "metadata": {},
   "outputs": [
    {
     "name": "stdout",
     "output_type": "stream",
     "text": [
      "(54835, 4)\n"
     ]
    },
    {
     "data": {
      "text/html": [
       "<div>\n",
       "<style scoped>\n",
       "    .dataframe tbody tr th:only-of-type {\n",
       "        vertical-align: middle;\n",
       "    }\n",
       "\n",
       "    .dataframe tbody tr th {\n",
       "        vertical-align: top;\n",
       "    }\n",
       "\n",
       "    .dataframe thead th {\n",
       "        text-align: right;\n",
       "    }\n",
       "</style>\n",
       "<table border=\"1\" class=\"dataframe\">\n",
       "  <thead>\n",
       "    <tr style=\"text-align: right;\">\n",
       "      <th></th>\n",
       "      <th>CID</th>\n",
       "      <th>SMILES</th>\n",
       "      <th>target</th>\n",
       "      <th>UPAC</th>\n",
       "    </tr>\n",
       "  </thead>\n",
       "  <tbody>\n",
       "    <tr>\n",
       "      <th>0</th>\n",
       "      <td>1094870</td>\n",
       "      <td>CC1=C(C(=NO1)C2=C(C=CC=C2Cl)Cl)C(=O)N3CCN(CC3)...</td>\n",
       "      <td>0</td>\n",
       "      <td>[3-(2,6-dichlorophenyl)-5-methyl-1,2-oxazol-4-...</td>\n",
       "    </tr>\n",
       "    <tr>\n",
       "      <th>1</th>\n",
       "      <td>1247043</td>\n",
       "      <td>C1CCC2=C(C1)C=C(S2)C(=O)NC3=NOC=C3</td>\n",
       "      <td>0</td>\n",
       "      <td>N-(1,2-oxazol-3-yl)-4,5,6,7-tetrahydro-1-benzo...</td>\n",
       "    </tr>\n",
       "    <tr>\n",
       "      <th>2</th>\n",
       "      <td>820933</td>\n",
       "      <td>C1=CC=C(C=C1)C2=C(N3C=CC=CC3=N2)C=O</td>\n",
       "      <td>0</td>\n",
       "      <td>2-phenylimidazo[1,2-a]pyridine-3-carbaldehyde</td>\n",
       "    </tr>\n",
       "    <tr>\n",
       "      <th>3</th>\n",
       "      <td>3126076</td>\n",
       "      <td>CC1=CC(=C(C=C1)C(=O)C)OC(=O)C2=CC(=CC=C2)F</td>\n",
       "      <td>0</td>\n",
       "      <td>(2-acetyl-5-methylphenyl) 3-fluorobenzoate</td>\n",
       "    </tr>\n",
       "    <tr>\n",
       "      <th>4</th>\n",
       "      <td>2547792</td>\n",
       "      <td>CC1=C(C=C(C=C1)S(=O)(=O)N2CCOCC2)C(=O)NNC(=O)C...</td>\n",
       "      <td>0</td>\n",
       "      <td>2-methyl-N'-(2-methyl-5-morpholin-4-ylsulfonyl...</td>\n",
       "    </tr>\n",
       "  </tbody>\n",
       "</table>\n",
       "</div>"
      ],
      "text/plain": [
       "       CID                                             SMILES  target  \\\n",
       "0  1094870  CC1=C(C(=NO1)C2=C(C=CC=C2Cl)Cl)C(=O)N3CCN(CC3)...       0   \n",
       "1  1247043                 C1CCC2=C(C1)C=C(S2)C(=O)NC3=NOC=C3       0   \n",
       "2   820933                C1=CC=C(C=C1)C2=C(N3C=CC=CC3=N2)C=O       0   \n",
       "3  3126076         CC1=CC(=C(C=C1)C(=O)C)OC(=O)C2=CC(=CC=C2)F       0   \n",
       "4  2547792  CC1=C(C=C(C=C1)S(=O)(=O)N2CCOCC2)C(=O)NNC(=O)C...       0   \n",
       "\n",
       "                                                UPAC  \n",
       "0  [3-(2,6-dichlorophenyl)-5-methyl-1,2-oxazol-4-...  \n",
       "1  N-(1,2-oxazol-3-yl)-4,5,6,7-tetrahydro-1-benzo...  \n",
       "2      2-phenylimidazo[1,2-a]pyridine-3-carbaldehyde  \n",
       "3         (2-acetyl-5-methylphenyl) 3-fluorobenzoate  \n",
       "4  2-methyl-N'-(2-methyl-5-morpholin-4-ylsulfonyl...  "
      ]
     },
     "execution_count": 18,
     "metadata": {},
     "output_type": "execute_result"
    }
   ],
   "source": [
    "# Second part of df\n",
    "df_3 = pd.read_csv('df3.csv', index_col=[0])\n",
    "df3= pd.merge(df, df_3, on=['CID', 'SMILES'])\n",
    "print(df3.shape)\n",
    "df3.head()"
   ]
  },
  {
   "cell_type": "code",
   "execution_count": 19,
   "id": "a0c90b11-eabe-428b-bf11-c317651eefb6",
   "metadata": {},
   "outputs": [
    {
     "name": "stdout",
     "output_type": "stream",
     "text": [
      "(54835, 2)\n"
     ]
    },
    {
     "data": {
      "text/html": [
       "<div>\n",
       "<style scoped>\n",
       "    .dataframe tbody tr th:only-of-type {\n",
       "        vertical-align: middle;\n",
       "    }\n",
       "\n",
       "    .dataframe tbody tr th {\n",
       "        vertical-align: top;\n",
       "    }\n",
       "\n",
       "    .dataframe thead th {\n",
       "        text-align: right;\n",
       "    }\n",
       "</style>\n",
       "<table border=\"1\" class=\"dataframe\">\n",
       "  <thead>\n",
       "    <tr style=\"text-align: right;\">\n",
       "      <th></th>\n",
       "      <th>UPAC</th>\n",
       "      <th>target</th>\n",
       "    </tr>\n",
       "  </thead>\n",
       "  <tbody>\n",
       "    <tr>\n",
       "      <th>0</th>\n",
       "      <td>[3-(2,6-dichlorophenyl)-5-methyl-1,2-oxazol-4-...</td>\n",
       "      <td>0</td>\n",
       "    </tr>\n",
       "    <tr>\n",
       "      <th>1</th>\n",
       "      <td>N-(1,2-oxazol-3-yl)-4,5,6,7-tetrahydro-1-benzo...</td>\n",
       "      <td>0</td>\n",
       "    </tr>\n",
       "    <tr>\n",
       "      <th>2</th>\n",
       "      <td>2-phenylimidazo[1,2-a]pyridine-3-carbaldehyde</td>\n",
       "      <td>0</td>\n",
       "    </tr>\n",
       "    <tr>\n",
       "      <th>3</th>\n",
       "      <td>(2-acetyl-5-methylphenyl) 3-fluorobenzoate</td>\n",
       "      <td>0</td>\n",
       "    </tr>\n",
       "    <tr>\n",
       "      <th>4</th>\n",
       "      <td>2-methyl-N'-(2-methyl-5-morpholin-4-ylsulfonyl...</td>\n",
       "      <td>0</td>\n",
       "    </tr>\n",
       "  </tbody>\n",
       "</table>\n",
       "</div>"
      ],
      "text/plain": [
       "                                                UPAC  target\n",
       "0  [3-(2,6-dichlorophenyl)-5-methyl-1,2-oxazol-4-...       0\n",
       "1  N-(1,2-oxazol-3-yl)-4,5,6,7-tetrahydro-1-benzo...       0\n",
       "2      2-phenylimidazo[1,2-a]pyridine-3-carbaldehyde       0\n",
       "3         (2-acetyl-5-methylphenyl) 3-fluorobenzoate       0\n",
       "4  2-methyl-N'-(2-methyl-5-morpholin-4-ylsulfonyl...       0"
      ]
     },
     "execution_count": 19,
     "metadata": {},
     "output_type": "execute_result"
    }
   ],
   "source": [
    "# Remain only the necessary columns\n",
    "df3 = df3[['UPAC', 'target']] \n",
    "print(df3.shape)\n",
    "df3.head()"
   ]
  },
  {
   "cell_type": "code",
   "execution_count": 20,
   "id": "c5a31278-2d2f-4c5b-b634-58a7a2086a99",
   "metadata": {},
   "outputs": [],
   "source": [
    "# Generate the csv file\n",
    "df3.to_csv('df3_targets.csv')"
   ]
  },
  {
   "cell_type": "code",
   "execution_count": 21,
   "id": "f9954d0c-f4ca-48d8-9819-78a3ef054045",
   "metadata": {},
   "outputs": [
    {
     "name": "stdout",
     "output_type": "stream",
     "text": [
      "(53538, 4)\n"
     ]
    },
    {
     "data": {
      "text/html": [
       "<div>\n",
       "<style scoped>\n",
       "    .dataframe tbody tr th:only-of-type {\n",
       "        vertical-align: middle;\n",
       "    }\n",
       "\n",
       "    .dataframe tbody tr th {\n",
       "        vertical-align: top;\n",
       "    }\n",
       "\n",
       "    .dataframe thead th {\n",
       "        text-align: right;\n",
       "    }\n",
       "</style>\n",
       "<table border=\"1\" class=\"dataframe\">\n",
       "  <thead>\n",
       "    <tr style=\"text-align: right;\">\n",
       "      <th></th>\n",
       "      <th>CID</th>\n",
       "      <th>SMILES</th>\n",
       "      <th>target</th>\n",
       "      <th>UPAC</th>\n",
       "    </tr>\n",
       "  </thead>\n",
       "  <tbody>\n",
       "    <tr>\n",
       "      <th>0</th>\n",
       "      <td>1072534</td>\n",
       "      <td>CCOC(=O)C1=C(C2=C(S1)N=C(C3=C2CC(N(C3)C)(C)C)N...</td>\n",
       "      <td>0</td>\n",
       "      <td>ethyl 1-amino-7,8,8-trimethyl-5-morpholin-4-yl...</td>\n",
       "    </tr>\n",
       "    <tr>\n",
       "      <th>1</th>\n",
       "      <td>2340492</td>\n",
       "      <td>C1=CC=C2C(=C1)C=C(C(=O)O2)C(=O)NCCC3=CNC4=CC=C...</td>\n",
       "      <td>0</td>\n",
       "      <td>N-[2-(1H-indol-3-yl)ethyl]-2-oxochromene-3-car...</td>\n",
       "    </tr>\n",
       "    <tr>\n",
       "      <th>2</th>\n",
       "      <td>5389480</td>\n",
       "      <td>CC1=C(C(=O)OC2=C(C(=C(C=C12)Cl)O)CN3CCCCC3)C</td>\n",
       "      <td>0</td>\n",
       "      <td>6-chloro-7-hydroxy-3,4-dimethyl-8-(piperidin-1...</td>\n",
       "    </tr>\n",
       "    <tr>\n",
       "      <th>3</th>\n",
       "      <td>4330067</td>\n",
       "      <td>CN(C)C1(CCCCC1)CNC(=O)C2=CC(=C(C=C2)Cl)S(=O)(=...</td>\n",
       "      <td>0</td>\n",
       "      <td>4-chloro-N-[[1-(dimethylamino)cyclohexyl]methy...</td>\n",
       "    </tr>\n",
       "    <tr>\n",
       "      <th>4</th>\n",
       "      <td>2221349</td>\n",
       "      <td>CCCNC(=O)NCC1=CC=C(C=C1)N2CCCC2=O</td>\n",
       "      <td>0</td>\n",
       "      <td>1-[[4-(2-oxopyrrolidin-1-yl)phenyl]methyl]-3-p...</td>\n",
       "    </tr>\n",
       "  </tbody>\n",
       "</table>\n",
       "</div>"
      ],
      "text/plain": [
       "       CID                                             SMILES  target  \\\n",
       "0  1072534  CCOC(=O)C1=C(C2=C(S1)N=C(C3=C2CC(N(C3)C)(C)C)N...       0   \n",
       "1  2340492  C1=CC=C2C(=C1)C=C(C(=O)O2)C(=O)NCCC3=CNC4=CC=C...       0   \n",
       "2  5389480       CC1=C(C(=O)OC2=C(C(=C(C=C12)Cl)O)CN3CCCCC3)C       0   \n",
       "3  4330067  CN(C)C1(CCCCC1)CNC(=O)C2=CC(=C(C=C2)Cl)S(=O)(=...       0   \n",
       "4  2221349                  CCCNC(=O)NCC1=CC=C(C=C1)N2CCCC2=O       0   \n",
       "\n",
       "                                                UPAC  \n",
       "0  ethyl 1-amino-7,8,8-trimethyl-5-morpholin-4-yl...  \n",
       "1  N-[2-(1H-indol-3-yl)ethyl]-2-oxochromene-3-car...  \n",
       "2  6-chloro-7-hydroxy-3,4-dimethyl-8-(piperidin-1...  \n",
       "3  4-chloro-N-[[1-(dimethylamino)cyclohexyl]methy...  \n",
       "4  1-[[4-(2-oxopyrrolidin-1-yl)phenyl]methyl]-3-p...  "
      ]
     },
     "execution_count": 21,
     "metadata": {},
     "output_type": "execute_result"
    }
   ],
   "source": [
    "# First part of df\n",
    "df_4 = pd.read_csv('df4.csv', index_col=[0])\n",
    "df4= pd.merge(df, df_4, on=['CID', 'SMILES'])\n",
    "print(df4.shape)\n",
    "df4.head()"
   ]
  },
  {
   "cell_type": "code",
   "execution_count": 22,
   "id": "c7b155f3-3c39-421f-9f92-75844226b653",
   "metadata": {},
   "outputs": [
    {
     "name": "stdout",
     "output_type": "stream",
     "text": [
      "(53538, 2)\n"
     ]
    },
    {
     "data": {
      "text/html": [
       "<div>\n",
       "<style scoped>\n",
       "    .dataframe tbody tr th:only-of-type {\n",
       "        vertical-align: middle;\n",
       "    }\n",
       "\n",
       "    .dataframe tbody tr th {\n",
       "        vertical-align: top;\n",
       "    }\n",
       "\n",
       "    .dataframe thead th {\n",
       "        text-align: right;\n",
       "    }\n",
       "</style>\n",
       "<table border=\"1\" class=\"dataframe\">\n",
       "  <thead>\n",
       "    <tr style=\"text-align: right;\">\n",
       "      <th></th>\n",
       "      <th>UPAC</th>\n",
       "      <th>target</th>\n",
       "    </tr>\n",
       "  </thead>\n",
       "  <tbody>\n",
       "    <tr>\n",
       "      <th>0</th>\n",
       "      <td>ethyl 1-amino-7,8,8-trimethyl-5-morpholin-4-yl...</td>\n",
       "      <td>0</td>\n",
       "    </tr>\n",
       "    <tr>\n",
       "      <th>1</th>\n",
       "      <td>N-[2-(1H-indol-3-yl)ethyl]-2-oxochromene-3-car...</td>\n",
       "      <td>0</td>\n",
       "    </tr>\n",
       "    <tr>\n",
       "      <th>2</th>\n",
       "      <td>6-chloro-7-hydroxy-3,4-dimethyl-8-(piperidin-1...</td>\n",
       "      <td>0</td>\n",
       "    </tr>\n",
       "    <tr>\n",
       "      <th>3</th>\n",
       "      <td>4-chloro-N-[[1-(dimethylamino)cyclohexyl]methy...</td>\n",
       "      <td>0</td>\n",
       "    </tr>\n",
       "    <tr>\n",
       "      <th>4</th>\n",
       "      <td>1-[[4-(2-oxopyrrolidin-1-yl)phenyl]methyl]-3-p...</td>\n",
       "      <td>0</td>\n",
       "    </tr>\n",
       "  </tbody>\n",
       "</table>\n",
       "</div>"
      ],
      "text/plain": [
       "                                                UPAC  target\n",
       "0  ethyl 1-amino-7,8,8-trimethyl-5-morpholin-4-yl...       0\n",
       "1  N-[2-(1H-indol-3-yl)ethyl]-2-oxochromene-3-car...       0\n",
       "2  6-chloro-7-hydroxy-3,4-dimethyl-8-(piperidin-1...       0\n",
       "3  4-chloro-N-[[1-(dimethylamino)cyclohexyl]methy...       0\n",
       "4  1-[[4-(2-oxopyrrolidin-1-yl)phenyl]methyl]-3-p...       0"
      ]
     },
     "execution_count": 22,
     "metadata": {},
     "output_type": "execute_result"
    }
   ],
   "source": [
    "# Remain only the necessary columns\n",
    "df4 = df4[['UPAC', 'target']] \n",
    "print(df4.shape)\n",
    "df4.head()"
   ]
  },
  {
   "cell_type": "code",
   "execution_count": 23,
   "id": "bbe4ce32-cd77-4385-a28e-046cf18714b9",
   "metadata": {},
   "outputs": [],
   "source": [
    "# Generate the csv file\n",
    "df4.to_csv('df4_targets.csv')"
   ]
  },
  {
   "cell_type": "markdown",
   "id": "f7d33e4f-512b-459f-9a9e-7b64f11c7a91",
   "metadata": {},
   "source": [
    "[<a href=\"#content\">Back to top</a>]"
   ]
  }
 ],
 "metadata": {
  "kernelspec": {
   "display_name": "Python 3 (ipykernel)",
   "language": "python",
   "name": "python3"
  },
  "language_info": {
   "codemirror_mode": {
    "name": "ipython",
    "version": 3
   },
   "file_extension": ".py",
   "mimetype": "text/x-python",
   "name": "python",
   "nbconvert_exporter": "python",
   "pygments_lexer": "ipython3",
   "version": "3.12.2"
  }
 },
 "nbformat": 4,
 "nbformat_minor": 5
}
