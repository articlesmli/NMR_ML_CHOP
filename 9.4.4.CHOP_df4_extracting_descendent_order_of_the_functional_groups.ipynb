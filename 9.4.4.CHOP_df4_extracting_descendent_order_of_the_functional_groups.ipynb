{
 "cells": [
  {
   "cell_type": "code",
   "execution_count": 1,
   "id": "6646f8a8-26e7-4d90-ba10-c76c728fe0a2",
   "metadata": {},
   "outputs": [
    {
     "name": "stdout",
     "output_type": "stream",
     "text": [
      "\n",
      "--- Summarized Column Analysis ---\n",
      "| column   | proportion   | count_target_one   | count_target_zero   |\n",
      "|----------|--------------|--------------------|---------------------|\n"
     ]
    }
   ],
   "source": [
    "# !pip install tabulate\n",
    "import pandas as pd\n",
    "import os\n",
    "\n",
    "def count_value_in_column_where_target_is_zero(df, column_name, value_to_count=1, target_column='target'):\n",
    "    \"\"\"\n",
    "    Counts the number of times a specific value appears in a given column\n",
    "    for rows where the target column is 0.\n",
    "    \"\"\"\n",
    "    target_zero_df = df[df[target_column] == 0]\n",
    "    count = (target_zero_df[column_name] == value_to_count).sum()\n",
    "    return count\n",
    "\n",
    "def count_value_in_column_where_target_is_one(df, column_name, value_to_count=1, target_column='target'):\n",
    "    \"\"\"\n",
    "    Counts the number of times a specific value appears in a given column\n",
    "    for rows where the target column is 1.\n",
    "    \"\"\"\n",
    "    target_one_df = df[df[target_column] == 1]\n",
    "    count = (target_one_df[column_name] == value_to_count).sum()\n",
    "    return count\n",
    "\n",
    "if __name__ == '__main__':\n",
    "    # Load the data\n",
    "    df = pd.read_csv('df4_targets_IUPACs.csv', index_col=[0])\n",
    "\n",
    "    # Use a list to store dictionaries for each row of our final table\n",
    "    results_data = []\n",
    "\n",
    "    # Iterate through each column in the DataFrame\n",
    "    for col in df.columns:\n",
    "        # Skip the target column itself\n",
    "        if col == 'target':\n",
    "            continue\n",
    "\n",
    "        # Count occurrences of 1 for target 0 and target 1\n",
    "        # Using df.copy() in function calls is generally good practice to prevent\n",
    "        # unexpected modifications if the functions were to alter the DataFrame.\n",
    "        count_target_zero = count_value_in_column_where_target_is_zero(df.copy(), col)\n",
    "        count_target_one = count_value_in_column_where_target_is_one(df.copy(), col)\n",
    "\n",
    "        # Calculate the proportion of 1s where target is 1\n",
    "        total_count = count_target_one + count_target_zero\n",
    "        if total_count > 0:\n",
    "            proportion = round((count_target_one / total_count) * 100, 2)\n",
    "        else:\n",
    "            proportion = 0.0  # Avoid division by zero if no 1s found in either target group\n",
    "\n",
    "        # Append the results for the current column to our list\n",
    "        results_data.append({\n",
    "            'column': col,\n",
    "            'proportion': proportion,\n",
    "            'count_target_one': count_target_one,\n",
    "            'count_target_zero': count_target_zero\n",
    "        })\n",
    "\n",
    "    # Create a Pandas DataFrame from the collected results\n",
    "    results_df = pd.DataFrame(results_data)\n",
    "\n",
    "    results_df = results_df[results_df['proportion'] > 99.00]\n",
    "    \n",
    "    # Sort the DataFrame by 'proportion' in descending order\n",
    "    results_df = results_df.sort_values(by='count_target_one', ascending=False)\n",
    "\n",
    "    results_df.to_csv('functional_groups_from_df4.csv')\n",
    "\n",
    "    print(\"\\n--- Summarized Column Analysis ---\")\n",
    "    # Print the DataFrame in a markdown table format for clear display\n",
    "    print(results_df.to_markdown(index=False))\n"
   ]
  }
 ],
 "metadata": {
  "kernelspec": {
   "display_name": "Python 3 (ipykernel)",
   "language": "python",
   "name": "python3"
  },
  "language_info": {
   "codemirror_mode": {
    "name": "ipython",
    "version": 3
   },
   "file_extension": ".py",
   "mimetype": "text/x-python",
   "name": "python",
   "nbconvert_exporter": "python",
   "pygments_lexer": "ipython3",
   "version": "3.12.2"
  }
 },
 "nbformat": 4,
 "nbformat_minor": 5
}
